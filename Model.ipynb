{
 "cells": [
  {
   "cell_type": "code",
   "execution_count": 12,
   "metadata": {},
   "outputs": [],
   "source": [
    "import pandas as pd\n",
    "import re\n",
    "import seaborn as sns\n",
    "import matplotlib.pyplot as plt\n",
    "import numpy as np\n",
    "from scipy.stats import sem\n",
    "\n",
    "from sklearn import datasets, ensemble\n",
    "from sklearn.inspection import permutation_importance\n",
    "from sklearn.metrics import mean_squared_error\n",
    "from sklearn.model_selection import train_test_split\n",
    "from sklearn.model_selection import KFold\n",
    "from sklearn.neural_network import MLPRegressor\n",
    "from time import time\n",
    "from sklearn.pipeline import make_pipeline\n",
    "from sklearn.preprocessing import QuantileTransformer\n",
    "from sklearn.neural_network import MLPRegressor\n",
    "from sklearn.datasets import make_regression\n",
    "from sklearn.metrics import confusion_matrix\n",
    "from sklearn.metrics import ConfusionMatrixDisplay\n",
    "from sklearn.linear_model import BayesianRidge, LinearRegression\n",
    "from scipy.stats import spearmanr"
   ]
  },
  {
   "cell_type": "code",
   "execution_count": null,
   "metadata": {},
   "outputs": [],
   "source": [
    "## need biopython to run: https://anaconda.org/anaconda/biopython\n",
    "from Bio.SeqUtils import MeltingTemp as mt\n",
    "from Bio.Seq import Seq"
   ]
  },
  {
   "cell_type": "code",
   "execution_count": 13,
   "metadata": {},
   "outputs": [],
   "source": [
    "## need OligoArrayAux to run: http://www.unafold.org/Dinamelt/software/OligoArrayAux.php\n",
    "## install: https://libraries.io/pypi/oligo-melting\n",
    "import oligo_melting as OligoMelt"
   ]
  },
  {
   "cell_type": "code",
   "execution_count": 14,
   "metadata": {},
   "outputs": [],
   "source": [
    "sns.set()"
   ]
  },
  {
   "cell_type": "markdown",
   "metadata": {},
   "source": [
    "## Import data and graph"
   ]
  },
  {
   "cell_type": "code",
   "execution_count": 34,
   "metadata": {},
   "outputs": [
    {
     "data": {
      "text/html": [
       "<div>\n",
       "<style scoped>\n",
       "    .dataframe tbody tr th:only-of-type {\n",
       "        vertical-align: middle;\n",
       "    }\n",
       "\n",
       "    .dataframe tbody tr th {\n",
       "        vertical-align: top;\n",
       "    }\n",
       "\n",
       "    .dataframe thead th {\n",
       "        text-align: right;\n",
       "    }\n",
       "</style>\n",
       "<table border=\"1\" class=\"dataframe\">\n",
       "  <thead>\n",
       "    <tr style=\"text-align: right;\">\n",
       "      <th></th>\n",
       "      <th>Unnamed: 0</th>\n",
       "      <th>Expanded Sequence</th>\n",
       "      <th>sgRNA Score</th>\n",
       "      <th>sgRNA Rank</th>\n",
       "      <th>sgRNA Normalized</th>\n",
       "      <th>A1</th>\n",
       "      <th>AA1</th>\n",
       "      <th>AG1</th>\n",
       "      <th>AC1</th>\n",
       "      <th>AT1</th>\n",
       "      <th>...</th>\n",
       "      <th>TGT</th>\n",
       "      <th>TCA</th>\n",
       "      <th>TCG</th>\n",
       "      <th>TCC</th>\n",
       "      <th>TCT</th>\n",
       "      <th>TTA</th>\n",
       "      <th>TTG</th>\n",
       "      <th>TTC</th>\n",
       "      <th>TTT</th>\n",
       "      <th>Delta G</th>\n",
       "    </tr>\n",
       "  </thead>\n",
       "  <tbody>\n",
       "    <tr>\n",
       "      <th>0</th>\n",
       "      <td>0</td>\n",
       "      <td>GGCCGTAATGGCTTCCTCGTGAGTTGGTCC</td>\n",
       "      <td>0.325738</td>\n",
       "      <td>2708.0</td>\n",
       "      <td>0.410978</td>\n",
       "      <td>0</td>\n",
       "      <td>0</td>\n",
       "      <td>0</td>\n",
       "      <td>0</td>\n",
       "      <td>0</td>\n",
       "      <td>...</td>\n",
       "      <td>0</td>\n",
       "      <td>0</td>\n",
       "      <td>1</td>\n",
       "      <td>1</td>\n",
       "      <td>0</td>\n",
       "      <td>0</td>\n",
       "      <td>1</td>\n",
       "      <td>1</td>\n",
       "      <td>0</td>\n",
       "      <td>-41</td>\n",
       "    </tr>\n",
       "    <tr>\n",
       "      <th>1</th>\n",
       "      <td>1</td>\n",
       "      <td>AGAAGCTCGTGCGAGTGATAGACCAGGAGA</td>\n",
       "      <td>0.162559</td>\n",
       "      <td>1558.0</td>\n",
       "      <td>0.236425</td>\n",
       "      <td>1</td>\n",
       "      <td>0</td>\n",
       "      <td>1</td>\n",
       "      <td>0</td>\n",
       "      <td>0</td>\n",
       "      <td>...</td>\n",
       "      <td>0</td>\n",
       "      <td>0</td>\n",
       "      <td>1</td>\n",
       "      <td>0</td>\n",
       "      <td>0</td>\n",
       "      <td>0</td>\n",
       "      <td>0</td>\n",
       "      <td>0</td>\n",
       "      <td>0</td>\n",
       "      <td>-39</td>\n",
       "    </tr>\n",
       "    <tr>\n",
       "      <th>2</th>\n",
       "      <td>2</td>\n",
       "      <td>ATGGCACGGACGGTATATGGCAGGAGGTGG</td>\n",
       "      <td>0.035653</td>\n",
       "      <td>360.0</td>\n",
       "      <td>0.054586</td>\n",
       "      <td>1</td>\n",
       "      <td>0</td>\n",
       "      <td>0</td>\n",
       "      <td>0</td>\n",
       "      <td>1</td>\n",
       "      <td>...</td>\n",
       "      <td>0</td>\n",
       "      <td>0</td>\n",
       "      <td>0</td>\n",
       "      <td>0</td>\n",
       "      <td>0</td>\n",
       "      <td>0</td>\n",
       "      <td>0</td>\n",
       "      <td>0</td>\n",
       "      <td>0</td>\n",
       "      <td>-41</td>\n",
       "    </tr>\n",
       "    <tr>\n",
       "      <th>3</th>\n",
       "      <td>3</td>\n",
       "      <td>TGGCTACTTCTGCGAGACACGGACAGGTCG</td>\n",
       "      <td>0.311042</td>\n",
       "      <td>2602.0</td>\n",
       "      <td>0.394889</td>\n",
       "      <td>0</td>\n",
       "      <td>0</td>\n",
       "      <td>0</td>\n",
       "      <td>0</td>\n",
       "      <td>0</td>\n",
       "      <td>...</td>\n",
       "      <td>0</td>\n",
       "      <td>0</td>\n",
       "      <td>1</td>\n",
       "      <td>0</td>\n",
       "      <td>1</td>\n",
       "      <td>0</td>\n",
       "      <td>0</td>\n",
       "      <td>1</td>\n",
       "      <td>0</td>\n",
       "      <td>-42</td>\n",
       "    </tr>\n",
       "    <tr>\n",
       "      <th>4</th>\n",
       "      <td>4</td>\n",
       "      <td>ACTTCGGCCCACGCTACTACAGTTCGGGCT</td>\n",
       "      <td>0.199951</td>\n",
       "      <td>1844.0</td>\n",
       "      <td>0.279835</td>\n",
       "      <td>1</td>\n",
       "      <td>0</td>\n",
       "      <td>0</td>\n",
       "      <td>1</td>\n",
       "      <td>0</td>\n",
       "      <td>...</td>\n",
       "      <td>0</td>\n",
       "      <td>0</td>\n",
       "      <td>1</td>\n",
       "      <td>0</td>\n",
       "      <td>0</td>\n",
       "      <td>0</td>\n",
       "      <td>0</td>\n",
       "      <td>1</td>\n",
       "      <td>0</td>\n",
       "      <td>-42</td>\n",
       "    </tr>\n",
       "  </tbody>\n",
       "</table>\n",
       "<p>5 rows × 2496 columns</p>\n",
       "</div>"
      ],
      "text/plain": [
       "   Unnamed: 0               Expanded Sequence  sgRNA Score  sgRNA Rank  \\\n",
       "0           0  GGCCGTAATGGCTTCCTCGTGAGTTGGTCC     0.325738      2708.0   \n",
       "1           1  AGAAGCTCGTGCGAGTGATAGACCAGGAGA     0.162559      1558.0   \n",
       "2           2  ATGGCACGGACGGTATATGGCAGGAGGTGG     0.035653       360.0   \n",
       "3           3  TGGCTACTTCTGCGAGACACGGACAGGTCG     0.311042      2602.0   \n",
       "4           4  ACTTCGGCCCACGCTACTACAGTTCGGGCT     0.199951      1844.0   \n",
       "\n",
       "   sgRNA Normalized  A1  AA1  AG1  AC1  AT1  ...  TGT  TCA  TCG  TCC  TCT  \\\n",
       "0          0.410978   0    0    0    0    0  ...    0    0    1    1    0   \n",
       "1          0.236425   1    0    1    0    0  ...    0    0    1    0    0   \n",
       "2          0.054586   1    0    0    0    1  ...    0    0    0    0    0   \n",
       "3          0.394889   0    0    0    0    0  ...    0    0    1    0    1   \n",
       "4          0.279835   1    0    0    1    0  ...    0    0    1    0    0   \n",
       "\n",
       "   TTA  TTG  TTC  TTT  Delta G  \n",
       "0    0    1    1    0      -41  \n",
       "1    0    0    0    0      -39  \n",
       "2    0    0    0    0      -41  \n",
       "3    0    0    1    0      -42  \n",
       "4    0    0    1    0      -42  \n",
       "\n",
       "[5 rows x 2496 columns]"
      ]
     },
     "execution_count": 34,
     "metadata": {},
     "output_type": "execute_result"
    },
    {
     "data": {
      "image/png": "[encoded data removed]",
      "text/plain": [
       "<Figure size 432x288 with 1 Axes>"
      ]
     },
     "metadata": {},
     "output_type": "display_data"
    }
   ],
   "source": [
    "df = pd.read_csv(\"Doench_Fusi_V2_Featurized.csv\")\n",
    "plt.hist(df[\"sgRNA Normalized\"], alpha=0.5, density=True, label='Normalized sgRNA scores')\n",
    "plt.hist(df[\"sgRNA Score\"], alpha=0.5, density=True, label='Raw sgRNA scores')\n",
    "plt.ylabel('Probability density')\n",
    "plt.title(\"Dataset Histogram sgRNA scores\")\n",
    "plt.legend()\n",
    "df.head()"
   ]
  },
  {
   "cell_type": "code",
   "execution_count": 35,
   "metadata": {},
   "outputs": [
    {
     "data": {
      "text/plain": [
       "(6588, 2496)"
      ]
     },
     "execution_count": 35,
     "metadata": {},
     "output_type": "execute_result"
    }
   ],
   "source": [
    "df.shape"
   ]
  },
  {
   "cell_type": "markdown",
   "metadata": {},
   "source": [
    "### Metrics"
   ]
  },
  {
   "cell_type": "code",
   "execution_count": 60,
   "metadata": {},
   "outputs": [
    {
     "data": {
      "text/plain": [
       "\"'accuracy': accuracy,\\n        'error': 1 - accuracy,\\n        'precision': precision_score(y_true, y_pred),\\n        'recall': recall_score(y_true, y_pred),\\n        'f1_score': f1_score(y_true, y_pred),\\n        'spearman': spearmanr(y_true, y_pred)\""
      ]
     },
     "execution_count": 60,
     "metadata": {},
     "output_type": "execute_result"
    }
   ],
   "source": [
    "#from sklearn.metrics import accuracy_score, precision_score, recall_score, f1_score, confusion_matrix\n",
    "from sklearn.metrics import r2_score\n",
    "\n",
    "def get_metrics(y_true, y_pred):\n",
    "    #accuracy = accuracy_score(y_true, y_pred)\n",
    "    mse = mean_squared_error(y_true, y_pred)\n",
    "    r2 = r2_score(y_true, y_pred)\n",
    "    spr = spearmanr(y_true, y_pred)\n",
    "    return {\n",
    "        'mse' : mse,\n",
    "        'r2' : r2,\n",
    "        'spearman': spearmanr(y_true, y_pred)[0]\n",
    "    }   \n"
   ]
  },
  {
   "cell_type": "markdown",
   "metadata": {},
   "source": [
    "### Models"
   ]
  },
  {
   "cell_type": "code",
   "execution_count": 37,
   "metadata": {},
   "outputs": [
    {
     "data": {
      "text/plain": [
       "array(['AG1', 'AC1', 'AT1', ..., 'TTC', 'TTT', 'Delta G'], dtype=object)"
      ]
     },
     "execution_count": 37,
     "metadata": {},
     "output_type": "execute_result"
    }
   ],
   "source": [
    "features = df.columns.values\n",
    "y_feat = \"sgRNA Normalized\"\n",
    "features = np.delete(features,0)\n",
    "features = np.delete(features,0)\n",
    "features = np.delete(features,0)\n",
    "features = np.delete(features,0)\n",
    "features = np.delete(features,0)\n",
    "features = np.delete(features,0)\n",
    "x_feat = features\n",
    "x_feat = np.delete(x_feat, 0)\n",
    "x_feat"
   ]
  },
  {
   "cell_type": "code",
   "execution_count": 133,
   "metadata": {},
   "outputs": [],
   "source": [
    "y = df.loc[:,y_feat].values\n",
    "x = df[x_feat].values\n",
    "X_train, X_test, y_train, y_test = train_test_split(\n",
    "    x, y, test_size=0.1\n",
    ")"
   ]
  },
  {
   "cell_type": "markdown",
   "metadata": {},
   "source": [
    "## 10-fold cross validation"
   ]
  },
  {
   "cell_type": "code",
   "execution_count": 39,
   "metadata": {},
   "outputs": [],
   "source": [
    "def cross_validate_regression(model, df, x_feat_list, y_feat, n_splits=10):\n",
    "    # computes the spearman correlation coefficient for each cross validated data set\n",
    "    # takes in a model (estimator object), pandas dataframe, x features and the y-feature to predict, as well\n",
    "    # as the number of splits (default is 10)\n",
    "    #\n",
    "    # returns a list of spearman correlation coefficients with length equal to the input n_splits\n",
    "    \n",
    "    # extract data into matrix\n",
    "    x = df.loc[:, x_feat_list].values\n",
    "    y_true = df.loc[:, y_feat].values\n",
    "    \n",
    "    kfold = KFold(n_splits=n_splits)\n",
    "    \n",
    "    # initialize an empty array same size as y_true\n",
    "    y_pred = np.empty_like(y_true)\n",
    "    \n",
    "    # correlation list\n",
    "    scc_list = np.array([])\n",
    "    \n",
    "    for train_idx, test_idx in kfold.split(x, y_true):\n",
    "        # get training data\n",
    "        x_train = x[train_idx, :]\n",
    "        y_true_train = y_true[train_idx]\n",
    "\n",
    "        # get testing data\n",
    "        x_test = x[test_idx, :]\n",
    "        y_true_test = y_true[test_idx]\n",
    "\n",
    "        # train on training data\n",
    "        model.fit(x_train, y_true_train)\n",
    "\n",
    "        # estimate each penguin's species\n",
    "        y_pred[test_idx] = model.predict(x_test)\n",
    "        \n",
    "        scc_list = np.append(scc_list, spearmanr(y_pred[test_idx], y_true[test_idx]).correlation)\n",
    "    \n",
    "    return scc_list"
   ]
  },
  {
   "cell_type": "markdown",
   "metadata": {},
   "source": [
    "### Gradient-Boosted Regression Tree"
   ]
  },
  {
   "cell_type": "code",
   "execution_count": 41,
   "metadata": {},
   "outputs": [
    {
     "name": "stdout",
     "output_type": "stream",
     "text": [
      "The mean squared error (MSE) on test set: 0.0765\n"
     ]
    }
   ],
   "source": [
    "params = {\n",
    "    \"n_estimators\": 1000,\n",
    "    \"max_depth\": 4,\n",
    "    \"min_samples_split\": 5,\n",
    "    \"learning_rate\": 0.01,\n",
    "}\n",
    "\n",
    "params2 = {\n",
    "    \"n_estimators\": 100,\n",
    "    \"max_depth\": 4,\n",
    "    \"min_samples_split\": 5,\n",
    "    \"learning_rate\": 0.01,\n",
    "}\n",
    "\n",
    "reg = ensemble.GradientBoostingRegressor(**params2)\n",
    "reg.fit(X_train, y_train)\n",
    "\n",
    "mse = mean_squared_error(y_test, reg.predict(X_test))\n",
    "print(\"The mean squared error (MSE) on test set: {:.4f}\".format(mse))"
   ]
  },
  {
   "cell_type": "code",
   "execution_count": 61,
   "metadata": {},
   "outputs": [
    {
     "name": "stdout",
     "output_type": "stream",
     "text": [
      "For n_estimators = 1\n",
      "{'mse': 0.08918636802443654, 'r2': 0.0026451994071469143, 'spearman': 0.39211559511194666}\n",
      "For n_estimators = 5\n",
      "{'mse': 0.0882797271636152, 'r2': 0.012783997913955236, 'spearman': 0.39234539171438076}\n",
      "For n_estimators = 10\n",
      "{'mse': 0.08726001787434283, 'r2': 0.02418721992414241, 'spearman': 0.379323236873127}\n",
      "For n_estimators = 100\n",
      "{'mse': 0.07652950188341422, 'r2': 0.14418461272590677, 'spearman': 0.4860136920685022}\n",
      "For n_estimators = 1000\n",
      "{'mse': 0.06073640762812914, 'r2': 0.32079588999429176, 'spearman': 0.5827401068419379}\n"
     ]
    }
   ],
   "source": [
    "ns = [1, 5, 10, 100, 1000]\n",
    "\n",
    "for n in ns:\n",
    "    params = {\n",
    "    \"n_estimators\": n,\n",
    "    \"max_depth\": 4,\n",
    "    \"min_samples_split\": 5,\n",
    "    \"learning_rate\": 0.01,\n",
    "    }\n",
    "\n",
    "    reg = ensemble.GradientBoostingRegressor(**params)\n",
    "    reg.fit(X_train, y_train)\n",
    "    reg_ypred = reg.predict(X_test)\n",
    "\n",
    "    print(\"For n_estimators = {}\".format(n))\n",
    "    print(get_metrics(y_test, reg_ypred))"
   ]
  },
  {
   "cell_type": "code",
   "execution_count": 21,
   "metadata": {},
   "outputs": [
    {
     "data": {
      "text/plain": [
       "array([0.92234138, 0.89011857, 0.91850165, 0.84646242, 0.85715185,\n",
       "       0.89065075, 0.91000961, 0.92150018, 0.89319109, 0.89455615])"
      ]
     },
     "execution_count": 21,
     "metadata": {},
     "output_type": "execute_result"
    }
   ],
   "source": [
    "# NOTE: this will take a while (~10 minutes) to run\n",
    "gbrt_cvssc = cross_validate_regression(reg, df, x_feat, y_feat, 10)\n",
    "gbrt_cvssc"
   ]
  },
  {
   "cell_type": "markdown",
   "metadata": {},
   "source": [
    "##### Graphs of GBRT"
   ]
  },
  {
   "cell_type": "code",
   "execution_count": 22,
   "metadata": {},
   "outputs": [
    {
     "data": {
      "image/png": "[encoded data removed]",
      "text/plain": [
       "<Figure size 432x432 with 1 Axes>"
      ]
     },
     "metadata": {},
     "output_type": "display_data"
    }
   ],
   "source": [
    "test_score = np.zeros((params[\"n_estimators\"],), dtype=np.float64)\n",
    "for i, y_pred in enumerate(reg.staged_predict(X_test)):\n",
    "    test_score[i] = reg.loss_(y_test, y_pred)\n",
    "\n",
    "fig = plt.figure(figsize=(6, 6))\n",
    "plt.subplot(1, 1, 1)\n",
    "plt.title(\"Deviance\")\n",
    "plt.plot(\n",
    "    np.arange(params[\"n_estimators\"]) + 1,\n",
    "    reg.train_score_,\n",
    "    \"b-\",\n",
    "    label=\"Training Set Deviance\",\n",
    ")\n",
    "plt.plot(\n",
    "    np.arange(params[\"n_estimators\"]) + 1, test_score, \"r-\", label=\"Test Set Deviance\"\n",
    ")\n",
    "plt.legend(loc=\"upper right\")\n",
    "plt.xlabel(\"Boosting Iterations\")\n",
    "plt.ylabel(\"Deviance\")\n",
    "fig.tight_layout()\n",
    "plt.show()"
   ]
  },
  {
   "cell_type": "code",
   "execution_count": 23,
   "metadata": {},
   "outputs": [
    {
     "data": {
      "image/png": "[encoded data removed]",
      "text/plain": [
       "<Figure size 864x432 with 2 Axes>"
      ]
     },
     "metadata": {},
     "output_type": "display_data"
    }
   ],
   "source": [
    "feature_importance = reg.feature_importances_\n",
    "sorted_idx = np.argsort(feature_importance)\n",
    "pos = np.arange(sorted_idx.shape[0]) + 0.5\n",
    "fig = plt.figure(figsize=(12, 6))\n",
    "plt.subplot(1, 2, 1)\n",
    "plt.barh(pos, feature_importance[sorted_idx], align=\"center\")\n",
    "# plt.yticks(pos, x_feat)[sorted_idx]\n",
    "plt.title(\"Feature Importance (MDI)\")\n",
    "\n",
    "result = permutation_importance(\n",
    "    reg, X_test, y_test, n_repeats=10, random_state=42, n_jobs=2\n",
    ")\n",
    "sorted_idx = result.importances_mean.argsort()\n",
    "plt.subplot(1, 2, 2)\n",
    "plt.boxplot(\n",
    "    result.importances[sorted_idx].T,\n",
    "    vert=False,\n",
    "    labels=x_feat[sorted_idx], # this might break it\n",
    ")\n",
    "plt.title(\"Permutation Importance (test set)\")\n",
    "fig.tight_layout()\n",
    "plt.show()"
   ]
  },
  {
   "cell_type": "markdown",
   "metadata": {},
   "source": [
    "## Linear Regression"
   ]
  },
  {
   "cell_type": "code",
   "execution_count": 199,
   "metadata": {},
   "outputs": [
    {
     "data": {
      "text/plain": [
       "{'mse': 0.04374375859333745,\n",
       " 'r2': 0.49089224877288906,\n",
       " 'spearman': 0.6955635139477749}"
      ]
     },
     "execution_count": 199,
     "metadata": {},
     "output_type": "execute_result"
    }
   ],
   "source": [
    "ols = LinearRegression()\n",
    "ols.fit(x, y)\n",
    "ols_ypred = ols.predict(X_test)\n",
    "#mse = mean_squared_error(y_test, ols.predict(X_test))\n",
    "#print(\"The mean squared error (MSE) on test set: {:.4f}\".format(mse))\n",
    "\n",
    "get_metrics(y_test, ols_ypred)"
   ]
  },
  {
   "cell_type": "code",
   "execution_count": 25,
   "metadata": {},
   "outputs": [
    {
     "data": {
      "text/plain": [
       "array([0.7815819 , 0.78872917, 0.79138436, 0.74497001, 0.69796054,\n",
       "       0.67687351, 0.73209463, 0.7348986 , 0.80272193, 0.82385991])"
      ]
     },
     "execution_count": 25,
     "metadata": {},
     "output_type": "execute_result"
    }
   ],
   "source": [
    "lr_cvssc = cross_validate_regression(ols, df, x_feat, y_feat, 10)\n",
    "lr_cvssc"
   ]
  },
  {
   "cell_type": "markdown",
   "metadata": {},
   "source": [
    "##### Graphs for LR"
   ]
  },
  {
   "cell_type": "code",
   "execution_count": 87,
   "metadata": {},
   "outputs": [
    {
     "data": {
      "text/plain": [
       "<matplotlib.legend.Legend at 0x1f40d6c40a0>"
      ]
     },
     "execution_count": 87,
     "metadata": {},
     "output_type": "execute_result"
    },
    {
     "data": {
      "image/png": "[encoded data removed]",
      "text/plain": [
       "<Figure size 432x360 with 1 Axes>"
      ]
     },
     "metadata": {},
     "output_type": "display_data"
    }
   ],
   "source": [
    "lw = 2\n",
    "plt.figure(figsize=(6, 5))\n",
    "plt.title(\"Weights of the model\")\n",
    "plt.plot(ols.coef_, color=\"lightblue\", linewidth=lw, label=\"Linear Regression estimate\")\n",
    "plt.xlabel(\"Features\")\n",
    "plt.ylabel(\"Values of the weights\")\n",
    "plt.legend(loc=\"best\", prop=dict(size=12))"
   ]
  },
  {
   "cell_type": "code",
   "execution_count": 114,
   "metadata": {},
   "outputs": [
    {
     "data": {
      "text/html": [
       "<div>\n",
       "<style scoped>\n",
       "    .dataframe tbody tr th:only-of-type {\n",
       "        vertical-align: middle;\n",
       "    }\n",
       "\n",
       "    .dataframe tbody tr th {\n",
       "        vertical-align: top;\n",
       "    }\n",
       "\n",
       "    .dataframe thead th {\n",
       "        text-align: right;\n",
       "    }\n",
       "</style>\n",
       "<table border=\"1\" class=\"dataframe\">\n",
       "  <thead>\n",
       "    <tr style=\"text-align: right;\">\n",
       "      <th></th>\n",
       "      <th>Features</th>\n",
       "      <th>Coefs</th>\n",
       "    </tr>\n",
       "  </thead>\n",
       "  <tbody>\n",
       "    <tr>\n",
       "      <th>618</th>\n",
       "      <td>GC Count</td>\n",
       "      <td>6.523270e+10</td>\n",
       "    </tr>\n",
       "    <tr>\n",
       "      <th>638</th>\n",
       "      <td>AGC1</td>\n",
       "      <td>4.201290e+10</td>\n",
       "    </tr>\n",
       "    <tr>\n",
       "      <th>639</th>\n",
       "      <td>AGT1</td>\n",
       "      <td>4.188166e+10</td>\n",
       "    </tr>\n",
       "    <tr>\n",
       "      <th>636</th>\n",
       "      <td>AGA1</td>\n",
       "      <td>4.178179e+10</td>\n",
       "    </tr>\n",
       "    <tr>\n",
       "      <th>637</th>\n",
       "      <td>AGG1</td>\n",
       "      <td>4.114135e+10</td>\n",
       "    </tr>\n",
       "    <tr>\n",
       "      <th>27</th>\n",
       "      <td>G2</td>\n",
       "      <td>3.198103e+10</td>\n",
       "    </tr>\n",
       "    <tr>\n",
       "      <th>5</th>\n",
       "      <td>GA1</td>\n",
       "      <td>1.618409e+10</td>\n",
       "    </tr>\n",
       "    <tr>\n",
       "      <th>11</th>\n",
       "      <td>CA1</td>\n",
       "      <td>1.078123e+10</td>\n",
       "    </tr>\n",
       "    <tr>\n",
       "      <th>29</th>\n",
       "      <td>GG2</td>\n",
       "      <td>1.013525e+10</td>\n",
       "    </tr>\n",
       "    <tr>\n",
       "      <th>17</th>\n",
       "      <td>TA1</td>\n",
       "      <td>9.098681e+09</td>\n",
       "    </tr>\n",
       "  </tbody>\n",
       "</table>\n",
       "</div>"
      ],
      "text/plain": [
       "     Features         Coefs\n",
       "618  GC Count  6.523270e+10\n",
       "638      AGC1  4.201290e+10\n",
       "639      AGT1  4.188166e+10\n",
       "636      AGA1  4.178179e+10\n",
       "637      AGG1  4.114135e+10\n",
       "27         G2  3.198103e+10\n",
       "5         GA1  1.618409e+10\n",
       "11        CA1  1.078123e+10\n",
       "29        GG2  1.013525e+10\n",
       "17        TA1  9.098681e+09"
      ]
     },
     "execution_count": 114,
     "metadata": {},
     "output_type": "execute_result"
    }
   ],
   "source": [
    "# Making a dataframe to sort feature importances\n",
    "imp_df = pd.DataFrame()\n",
    "imp_df['Features'] = x_feat\n",
    "imp_df['Coefs'] = ols.coef_\n",
    "imp_df = imp_df.sort_values(by=['Coefs'], ascending = False)\n",
    "imp_df.head(10)"
   ]
  },
  {
   "cell_type": "code",
   "execution_count": 115,
   "metadata": {},
   "outputs": [
    {
     "data": {
      "text/html": [
       "<div>\n",
       "<style scoped>\n",
       "    .dataframe tbody tr th:only-of-type {\n",
       "        vertical-align: middle;\n",
       "    }\n",
       "\n",
       "    .dataframe tbody tr th {\n",
       "        vertical-align: top;\n",
       "    }\n",
       "\n",
       "    .dataframe thead th {\n",
       "        text-align: right;\n",
       "    }\n",
       "</style>\n",
       "<table border=\"1\" class=\"dataframe\">\n",
       "  <thead>\n",
       "    <tr style=\"text-align: right;\">\n",
       "      <th></th>\n",
       "      <th>Features</th>\n",
       "      <th>Coefs</th>\n",
       "    </tr>\n",
       "  </thead>\n",
       "  <tbody>\n",
       "    <tr>\n",
       "      <th>2</th>\n",
       "      <td>AT1</td>\n",
       "      <td>-2.156339e+10</td>\n",
       "    </tr>\n",
       "    <tr>\n",
       "      <th>10</th>\n",
       "      <td>C1</td>\n",
       "      <td>-2.373818e+10</td>\n",
       "    </tr>\n",
       "    <tr>\n",
       "      <th>1</th>\n",
       "      <td>AC1</td>\n",
       "      <td>-2.557540e+10</td>\n",
       "    </tr>\n",
       "    <tr>\n",
       "      <th>16</th>\n",
       "      <td>T1</td>\n",
       "      <td>-2.565402e+10</td>\n",
       "    </tr>\n",
       "    <tr>\n",
       "      <th>4</th>\n",
       "      <td>G1</td>\n",
       "      <td>-2.700624e+10</td>\n",
       "    </tr>\n",
       "    <tr>\n",
       "      <th>620</th>\n",
       "      <td>Melting Temp Wallace</td>\n",
       "      <td>-3.483780e+10</td>\n",
       "    </tr>\n",
       "    <tr>\n",
       "      <th>6</th>\n",
       "      <td>GG1</td>\n",
       "      <td>-4.021198e+10</td>\n",
       "    </tr>\n",
       "    <tr>\n",
       "      <th>12</th>\n",
       "      <td>CG1</td>\n",
       "      <td>-4.154548e+10</td>\n",
       "    </tr>\n",
       "    <tr>\n",
       "      <th>18</th>\n",
       "      <td>TG1</td>\n",
       "      <td>-4.418257e+10</td>\n",
       "    </tr>\n",
       "    <tr>\n",
       "      <th>0</th>\n",
       "      <td>AG1</td>\n",
       "      <td>-1.222123e+11</td>\n",
       "    </tr>\n",
       "  </tbody>\n",
       "</table>\n",
       "</div>"
      ],
      "text/plain": [
       "                 Features         Coefs\n",
       "2                     AT1 -2.156339e+10\n",
       "10                     C1 -2.373818e+10\n",
       "1                     AC1 -2.557540e+10\n",
       "16                     T1 -2.565402e+10\n",
       "4                      G1 -2.700624e+10\n",
       "620  Melting Temp Wallace -3.483780e+10\n",
       "6                     GG1 -4.021198e+10\n",
       "12                    CG1 -4.154548e+10\n",
       "18                    TG1 -4.418257e+10\n",
       "0                     AG1 -1.222123e+11"
      ]
     },
     "execution_count": 115,
     "metadata": {},
     "output_type": "execute_result"
    }
   ],
   "source": [
    "imp_df.tail(10)"
   ]
  },
  {
   "cell_type": "markdown",
   "metadata": {},
   "source": [
    "### Bayesian Ridge Regression"
   ]
  },
  {
   "cell_type": "code",
   "execution_count": 185,
   "metadata": {},
   "outputs": [
    {
     "data": {
      "text/plain": [
       "{'mse': 0.052128831272366935,\n",
       " 'r2': 0.39330334391488775,\n",
       " 'spearman': 0.6290249363555822}"
      ]
     },
     "execution_count": 185,
     "metadata": {},
     "output_type": "execute_result"
    }
   ],
   "source": [
    "# Fit the Bayesian Ridge Regression and an OLS for comparison\n",
    "clf = BayesianRidge(compute_score=True)\n",
    "clf.fit(x, y)\n",
    "\n",
    "clf_ypred = clf.predict(X_test)\n",
    "get_metrics(y_test, clf_ypred)"
   ]
  },
  {
   "cell_type": "code",
   "execution_count": 28,
   "metadata": {},
   "outputs": [
    {
     "data": {
      "text/plain": [
       "array([0.95871864, 0.95313358, 0.94350851, 0.93684192, 0.94077321,\n",
       "       0.95305347, 0.94645555, 0.9554111 , 0.95607776, 0.94849081])"
      ]
     },
     "execution_count": 28,
     "metadata": {},
     "output_type": "execute_result"
    }
   ],
   "source": [
    "brr_cvssc = cross_validate_regression(clf, df, x_feat, y_feat, 10)\n",
    "brr_cvssc"
   ]
  },
  {
   "cell_type": "markdown",
   "metadata": {},
   "source": [
    "##### Graphs"
   ]
  },
  {
   "cell_type": "code",
   "execution_count": 183,
   "metadata": {},
   "outputs": [
    {
     "data": {
      "text/html": [
       "<div>\n",
       "<style scoped>\n",
       "    .dataframe tbody tr th:only-of-type {\n",
       "        vertical-align: middle;\n",
       "    }\n",
       "\n",
       "    .dataframe tbody tr th {\n",
       "        vertical-align: top;\n",
       "    }\n",
       "\n",
       "    .dataframe thead th {\n",
       "        text-align: right;\n",
       "    }\n",
       "</style>\n",
       "<table border=\"1\" class=\"dataframe\">\n",
       "  <thead>\n",
       "    <tr style=\"text-align: right;\">\n",
       "      <th></th>\n",
       "      <th>Features</th>\n",
       "      <th>Coefs</th>\n",
       "    </tr>\n",
       "  </thead>\n",
       "  <tbody>\n",
       "    <tr>\n",
       "      <th>2488</th>\n",
       "      <td>Delta G</td>\n",
       "      <td>0.049819</td>\n",
       "    </tr>\n",
       "    <tr>\n",
       "      <th>2487</th>\n",
       "      <td>TTT</td>\n",
       "      <td>0.034090</td>\n",
       "    </tr>\n",
       "    <tr>\n",
       "      <th>2486</th>\n",
       "      <td>TTC</td>\n",
       "      <td>0.027226</td>\n",
       "    </tr>\n",
       "    <tr>\n",
       "      <th>2485</th>\n",
       "      <td>TTG</td>\n",
       "      <td>0.027172</td>\n",
       "    </tr>\n",
       "    <tr>\n",
       "      <th>2484</th>\n",
       "      <td>TTA</td>\n",
       "      <td>0.026938</td>\n",
       "    </tr>\n",
       "    <tr>\n",
       "      <th>2483</th>\n",
       "      <td>TCT</td>\n",
       "      <td>0.026908</td>\n",
       "    </tr>\n",
       "    <tr>\n",
       "      <th>2482</th>\n",
       "      <td>TCC</td>\n",
       "      <td>0.025587</td>\n",
       "    </tr>\n",
       "    <tr>\n",
       "      <th>2481</th>\n",
       "      <td>TCG</td>\n",
       "      <td>0.025367</td>\n",
       "    </tr>\n",
       "    <tr>\n",
       "      <th>2480</th>\n",
       "      <td>TCA</td>\n",
       "      <td>0.024380</td>\n",
       "    </tr>\n",
       "    <tr>\n",
       "      <th>2479</th>\n",
       "      <td>TGT</td>\n",
       "      <td>0.023537</td>\n",
       "    </tr>\n",
       "  </tbody>\n",
       "</table>\n",
       "</div>"
      ],
      "text/plain": [
       "     Features     Coefs\n",
       "2488  Delta G  0.049819\n",
       "2487      TTT  0.034090\n",
       "2486      TTC  0.027226\n",
       "2485      TTG  0.027172\n",
       "2484      TTA  0.026938\n",
       "2483      TCT  0.026908\n",
       "2482      TCC  0.025587\n",
       "2481      TCG  0.025367\n",
       "2480      TCA  0.024380\n",
       "2479      TGT  0.023537"
      ]
     },
     "execution_count": 183,
     "metadata": {},
     "output_type": "execute_result"
    }
   ],
   "source": [
    "'''clf_df = pd.DataFrame()\n",
    "clf_df['Features'] = x_feat\n",
    "clf_df['Coefs'] = clf.coef_\n",
    "clf_df = clf_df.sort_values(by=['Coefs'], ascending = False)\n",
    "clf_df.head(10)'''"
   ]
  },
  {
   "cell_type": "code",
   "execution_count": 190,
   "metadata": {},
   "outputs": [
    {
     "data": {
      "text/plain": [
       "<matplotlib.legend.Legend at 0x1f432cb59d0>"
      ]
     },
     "execution_count": 190,
     "metadata": {},
     "output_type": "execute_result"
    },
    {
     "data": {
      "image/png": "[encoded data removed]",
      "text/plain": [
       "<Figure size 1152x360 with 1 Axes>"
      ]
     },
     "metadata": {},
     "output_type": "display_data"
    }
   ],
   "source": [
    "lw = .5\n",
    "plt.figure(figsize=(16, 5))\n",
    "plt.title(\"Weights of the model\")\n",
    "# plt.plot(ols.coef_, color=\"lightblue\", linestyle=\"--\", label=\"Linear Regression estimate\")\n",
    "plt.plot(clf.coef_, color=\"lightgreen\", linewidth=lw, label=\"Bayesian Ridge estimate\")\n",
    "plt.xlabel(\"Features\")\n",
    "plt.ylabel(\"Values of the weights\")\n",
    "plt.legend(loc=\"best\", prop=dict(size=12))"
   ]
  },
  {
   "cell_type": "markdown",
   "metadata": {},
   "source": [
    "## Neural Network Regressor"
   ]
  },
  {
   "cell_type": "code",
   "execution_count": 192,
   "metadata": {},
   "outputs": [
    {
     "name": "stdout",
     "output_type": "stream",
     "text": [
      "Training MLPRegressor...\n",
      "done in 18.025s\n",
      "Test R2 score: 0.26\n"
     ]
    }
   ],
   "source": [
    "print(\"Training MLPRegressor...\")\n",
    "tic = time()\n",
    "est = make_pipeline(\n",
    "    QuantileTransformer(),\n",
    "    MLPRegressor(\n",
    "        # Params from grid search\n",
    "        hidden_layer_sizes=(100, 100),\n",
    "        learning_rate_init=0.0005,\n",
    "        early_stopping=True,\n",
    "        random_state=0,\n",
    "        activation='tanh',\n",
    "    ),\n",
    ")\n",
    "est.fit(X_train, y_train)\n",
    "est_ypred = est.predict(X_test)\n",
    "print(f\"done in {time() - tic:.3f}s\")\n",
    "print(f\"Test R2 score: {est.score(X_test, y_test):.2f}\")"
   ]
  },
  {
   "cell_type": "code",
   "execution_count": 195,
   "metadata": {},
   "outputs": [
    {
     "data": {
      "text/plain": [
       "{'mse': 0.06342009500244601,\n",
       " 'r2': 0.2618909991373556,\n",
       " 'spearman': 0.4995779156954908}"
      ]
     },
     "execution_count": 195,
     "metadata": {},
     "output_type": "execute_result"
    }
   ],
   "source": [
    "get_metrics(y_test, est_ypred)"
   ]
  },
  {
   "cell_type": "code",
   "execution_count": 31,
   "metadata": {},
   "outputs": [],
   "source": [
    "nn_cvssc = cross_validate_regression(est, df, x_feat, y_feat, 10)\n",
    "nn_cvssc"
   ]
  },
  {
   "cell_type": "markdown",
   "metadata": {},
   "source": [
    "## Lasso Regressor"
   ]
  },
  {
   "cell_type": "code",
   "execution_count": 211,
   "metadata": {},
   "outputs": [],
   "source": [
    "from sklearn.linear_model import Lasso"
   ]
  },
  {
   "cell_type": "code",
   "execution_count": 233,
   "metadata": {},
   "outputs": [
    {
     "data": {
      "text/plain": [
       "{'mse': 0.060835988992571276,\n",
       " 'r2': 0.2919658816331675,\n",
       " 'spearman': 0.5321053944157195}"
      ]
     },
     "execution_count": 233,
     "metadata": {},
     "output_type": "execute_result"
    }
   ],
   "source": [
    "las = Lasso(alpha = .001, max_iter = 1000000, random_state = 42)\n",
    "las.fit(x, y)\n",
    "las_ypred = las.predict(X_test)\n",
    "\n",
    "get_metrics(y_test, las_ypred)"
   ]
  },
  {
   "cell_type": "code",
   "execution_count": null,
   "metadata": {},
   "outputs": [],
   "source": [
    "las_cvssc = cross_validate_regression(las, df, x_feat, y_feat, 10)\n",
    "las_cvssc"
   ]
  },
  {
   "cell_type": "code",
   "execution_count": 234,
   "metadata": {},
   "outputs": [
    {
     "data": {
      "text/plain": [
       "[<matplotlib.lines.Line2D at 0x1f432d31ee0>]"
      ]
     },
     "execution_count": 234,
     "metadata": {},
     "output_type": "execute_result"
    },
    {
     "data": {
      "image/png": "[encoded data removed]",
      "text/plain": [
       "<Figure size 432x288 with 1 Axes>"
      ]
     },
     "metadata": {},
     "output_type": "display_data"
    }
   ],
   "source": [
    "# Exploring features reduced to 0\n",
    "plt.plot(las.coef_)"
   ]
  },
  {
   "cell_type": "code",
   "execution_count": 251,
   "metadata": {},
   "outputs": [
    {
     "data": {
      "text/html": [
       "<div>\n",
       "<style scoped>\n",
       "    .dataframe tbody tr th:only-of-type {\n",
       "        vertical-align: middle;\n",
       "    }\n",
       "\n",
       "    .dataframe tbody tr th {\n",
       "        vertical-align: top;\n",
       "    }\n",
       "\n",
       "    .dataframe thead th {\n",
       "        text-align: right;\n",
       "    }\n",
       "</style>\n",
       "<table border=\"1\" class=\"dataframe\">\n",
       "  <thead>\n",
       "    <tr style=\"text-align: right;\">\n",
       "      <th></th>\n",
       "      <th>Features</th>\n",
       "      <th>Coefs</th>\n",
       "    </tr>\n",
       "  </thead>\n",
       "  <tbody>\n",
       "    <tr>\n",
       "      <th>6</th>\n",
       "      <td>GG1</td>\n",
       "      <td>-0.049659</td>\n",
       "    </tr>\n",
       "    <tr>\n",
       "      <th>74</th>\n",
       "      <td>CG4</td>\n",
       "      <td>0.029053</td>\n",
       "    </tr>\n",
       "    <tr>\n",
       "      <th>179</th>\n",
       "      <td>TG9</td>\n",
       "      <td>0.035246</td>\n",
       "    </tr>\n",
       "    <tr>\n",
       "      <th>229</th>\n",
       "      <td>GG12</td>\n",
       "      <td>-0.029335</td>\n",
       "    </tr>\n",
       "    <tr>\n",
       "      <th>242</th>\n",
       "      <td>A13</td>\n",
       "      <td>0.028933</td>\n",
       "    </tr>\n",
       "    <tr>\n",
       "      <th>268</th>\n",
       "      <td>GA14</td>\n",
       "      <td>0.060088</td>\n",
       "    </tr>\n",
       "    <tr>\n",
       "      <th>302</th>\n",
       "      <td>A16</td>\n",
       "      <td>0.042917</td>\n",
       "    </tr>\n",
       "    <tr>\n",
       "      <th>347</th>\n",
       "      <td>G18</td>\n",
       "      <td>-0.040427</td>\n",
       "    </tr>\n",
       "    <tr>\n",
       "      <th>395</th>\n",
       "      <td>CC20</td>\n",
       "      <td>0.043928</td>\n",
       "    </tr>\n",
       "    <tr>\n",
       "      <th>405</th>\n",
       "      <td>AC21</td>\n",
       "      <td>0.041504</td>\n",
       "    </tr>\n",
       "    <tr>\n",
       "      <th>411</th>\n",
       "      <td>GT21</td>\n",
       "      <td>0.031606</td>\n",
       "    </tr>\n",
       "    <tr>\n",
       "      <th>417</th>\n",
       "      <td>T21</td>\n",
       "      <td>-0.025236</td>\n",
       "    </tr>\n",
       "    <tr>\n",
       "      <th>419</th>\n",
       "      <td>TG21</td>\n",
       "      <td>0.026385</td>\n",
       "    </tr>\n",
       "    <tr>\n",
       "      <th>421</th>\n",
       "      <td>TT21</td>\n",
       "      <td>-0.056211</td>\n",
       "    </tr>\n",
       "    <tr>\n",
       "      <th>423</th>\n",
       "      <td>AA22</td>\n",
       "      <td>-0.029634</td>\n",
       "    </tr>\n",
       "    <tr>\n",
       "      <th>425</th>\n",
       "      <td>AC22</td>\n",
       "      <td>0.031309</td>\n",
       "    </tr>\n",
       "    <tr>\n",
       "      <th>427</th>\n",
       "      <td>G22</td>\n",
       "      <td>0.033655</td>\n",
       "    </tr>\n",
       "    <tr>\n",
       "      <th>432</th>\n",
       "      <td>C22</td>\n",
       "      <td>0.046575</td>\n",
       "    </tr>\n",
       "    <tr>\n",
       "      <th>437</th>\n",
       "      <td>T22</td>\n",
       "      <td>-0.053659</td>\n",
       "    </tr>\n",
       "    <tr>\n",
       "      <th>439</th>\n",
       "      <td>TG22</td>\n",
       "      <td>0.035966</td>\n",
       "    </tr>\n",
       "    <tr>\n",
       "      <th>447</th>\n",
       "      <td>G23</td>\n",
       "      <td>0.035350</td>\n",
       "    </tr>\n",
       "    <tr>\n",
       "      <th>450</th>\n",
       "      <td>GC23</td>\n",
       "      <td>-0.026601</td>\n",
       "    </tr>\n",
       "    <tr>\n",
       "      <th>451</th>\n",
       "      <td>GT23</td>\n",
       "      <td>0.054690</td>\n",
       "    </tr>\n",
       "    <tr>\n",
       "      <th>453</th>\n",
       "      <td>CA23</td>\n",
       "      <td>0.026770</td>\n",
       "    </tr>\n",
       "    <tr>\n",
       "      <th>457</th>\n",
       "      <td>T23</td>\n",
       "      <td>-0.085481</td>\n",
       "    </tr>\n",
       "    <tr>\n",
       "      <th>459</th>\n",
       "      <td>TG23</td>\n",
       "      <td>0.036787</td>\n",
       "    </tr>\n",
       "    <tr>\n",
       "      <th>462</th>\n",
       "      <td>A24</td>\n",
       "      <td>0.026781</td>\n",
       "    </tr>\n",
       "    <tr>\n",
       "      <th>467</th>\n",
       "      <td>G24</td>\n",
       "      <td>0.121497</td>\n",
       "    </tr>\n",
       "    <tr>\n",
       "      <th>477</th>\n",
       "      <td>T24</td>\n",
       "      <td>-0.027226</td>\n",
       "    </tr>\n",
       "    <tr>\n",
       "      <th>487</th>\n",
       "      <td>G25</td>\n",
       "      <td>0.078706</td>\n",
       "    </tr>\n",
       "    <tr>\n",
       "      <th>492</th>\n",
       "      <td>C25</td>\n",
       "      <td>0.034917</td>\n",
       "    </tr>\n",
       "    <tr>\n",
       "      <th>497</th>\n",
       "      <td>T25</td>\n",
       "      <td>-0.031558</td>\n",
       "    </tr>\n",
       "    <tr>\n",
       "      <th>529</th>\n",
       "      <td>GG27</td>\n",
       "      <td>-0.060298</td>\n",
       "    </tr>\n",
       "    <tr>\n",
       "      <th>569</th>\n",
       "      <td>GG29</td>\n",
       "      <td>-0.031480</td>\n",
       "    </tr>\n",
       "    <tr>\n",
       "      <th>1018</th>\n",
       "      <td>AAC7</td>\n",
       "      <td>0.033811</td>\n",
       "    </tr>\n",
       "    <tr>\n",
       "      <th>1805</th>\n",
       "      <td>GGG19</td>\n",
       "      <td>-0.033262</td>\n",
       "    </tr>\n",
       "    <tr>\n",
       "      <th>1938</th>\n",
       "      <td>GCC21</td>\n",
       "      <td>-0.054650</td>\n",
       "    </tr>\n",
       "    <tr>\n",
       "      <th>1976</th>\n",
       "      <td>AAA22</td>\n",
       "      <td>-0.031252</td>\n",
       "    </tr>\n",
       "    <tr>\n",
       "      <th>2002</th>\n",
       "      <td>GCC22</td>\n",
       "      <td>-0.054932</td>\n",
       "    </tr>\n",
       "    <tr>\n",
       "      <th>2461</th>\n",
       "      <td>CGG</td>\n",
       "      <td>0.028107</td>\n",
       "    </tr>\n",
       "  </tbody>\n",
       "</table>\n",
       "</div>"
      ],
      "text/plain": [
       "     Features     Coefs\n",
       "6         GG1 -0.049659\n",
       "74        CG4  0.029053\n",
       "179       TG9  0.035246\n",
       "229      GG12 -0.029335\n",
       "242       A13  0.028933\n",
       "268      GA14  0.060088\n",
       "302       A16  0.042917\n",
       "347       G18 -0.040427\n",
       "395      CC20  0.043928\n",
       "405      AC21  0.041504\n",
       "411      GT21  0.031606\n",
       "417       T21 -0.025236\n",
       "419      TG21  0.026385\n",
       "421      TT21 -0.056211\n",
       "423      AA22 -0.029634\n",
       "425      AC22  0.031309\n",
       "427       G22  0.033655\n",
       "432       C22  0.046575\n",
       "437       T22 -0.053659\n",
       "439      TG22  0.035966\n",
       "447       G23  0.035350\n",
       "450      GC23 -0.026601\n",
       "451      GT23  0.054690\n",
       "453      CA23  0.026770\n",
       "457       T23 -0.085481\n",
       "459      TG23  0.036787\n",
       "462       A24  0.026781\n",
       "467       G24  0.121497\n",
       "477       T24 -0.027226\n",
       "487       G25  0.078706\n",
       "492       C25  0.034917\n",
       "497       T25 -0.031558\n",
       "529      GG27 -0.060298\n",
       "569      GG29 -0.031480\n",
       "1018     AAC7  0.033811\n",
       "1805    GGG19 -0.033262\n",
       "1938    GCC21 -0.054650\n",
       "1976    AAA22 -0.031252\n",
       "2002    GCC22 -0.054932\n",
       "2461      CGG  0.028107"
      ]
     },
     "execution_count": 251,
     "metadata": {},
     "output_type": "execute_result"
    }
   ],
   "source": [
    "\n",
    "from sklearn.linear_model import Lasso\n",
    "las = Lasso(alpha = .001, max_iter = 1000000, random_state = 42)\n",
    "las.fit(x, y)\n",
    "las_ypred = las.predict(X_test)\n",
    "\n",
    "\n",
    "lasso_df = pd.DataFrame()\n",
    "\n",
    "lasso_df['Features'] = x_feat\n",
    "lasso_df['Coefs'] = las.coef_\n",
    "\n",
    "# .001 gets 216 features, .01 gets 108, .025 gets 40\n",
    "threshold = .025\n",
    "important_feats = lasso_df[abs(lasso_df['Coefs']) > threshold]\n",
    "important_feats"
   ]
  },
  {
   "cell_type": "code",
   "execution_count": 252,
   "metadata": {},
   "outputs": [
    {
     "data": {
      "text/plain": [
       "array(['TTA', 'TTG', 'TTC', 'TTT', 'Delta G'], dtype=object)"
      ]
     },
     "execution_count": 252,
     "metadata": {},
     "output_type": "execute_result"
    }
   ],
   "source": [
    "x_feat[-5:]"
   ]
  },
  {
   "cell_type": "code",
   "execution_count": 239,
   "metadata": {},
   "outputs": [
    {
     "data": {
      "text/plain": [
       "[<matplotlib.lines.Line2D at 0x1f432e3d070>]"
      ]
     },
     "execution_count": 239,
     "metadata": {},
     "output_type": "execute_result"
    },
    {
     "data": {
      "image/png": "[encoded data removed]",
      "text/plain": [
       "<Figure size 432x288 with 1 Axes>"
      ]
     },
     "metadata": {},
     "output_type": "display_data"
    }
   ],
   "source": [
    "plt.plot(clf.coef_)"
   ]
  },
  {
   "cell_type": "markdown",
   "metadata": {},
   "source": [
    "## Model Performance"
   ]
  },
  {
   "cell_type": "code",
   "execution_count": 32,
   "metadata": {},
   "outputs": [
    {
     "data": {
      "text/plain": [
       "<BarContainer object of 4 artists>"
      ]
     },
     "execution_count": 32,
     "metadata": {},
     "output_type": "execute_result"
    },
    {
     "data": {
      "image/png": "[encoded data removed]",
      "text/plain": [
       "<Figure size 432x288 with 1 Axes>"
      ]
     },
     "metadata": {},
     "output_type": "display_data"
    }
   ],
   "source": [
    "models = ['gbrt', 'lr', 'brr', 'nn']\n",
    "values = [gbrt_cvssc.mean(), lr_cvssc.mean(), brr_cvssc.mean(), nn_cvssc.mean()]\n",
    "# error = [sem(gbrt_cvssc), sem(lr_cvssc), sem(brr_cvssc), sem(nn_cvssc)]\n",
    "error = [gbrt_cvssc.std(), lr_cvssc.std(), brr_cvssc.std(), nn_cvssc.std()]\n",
    "\n",
    "plt.bar(models, values, yerr=error, alpha=0.6)"
   ]
  },
  {
   "cell_type": "code",
   "execution_count": 200,
   "metadata": {},
   "outputs": [
    {
     "name": "stdout",
     "output_type": "stream",
     "text": [
      "{'mse': 0.04721720601298133, 'r2': 0.45046684725995545, 'spearman': 0.7287846987853965}\n",
      "{'mse': 0.04374375859333745, 'r2': 0.49089224877288906, 'spearman': 0.6955635139477749}\n",
      "{'mse': 0.052128831272366935, 'r2': 0.39330334391488775, 'spearman': 0.6290249363555822}\n",
      "{'mse': 0.06342009500244601, 'r2': 0.2618909991373556, 'spearman': 0.4995779156954908}\n"
     ]
    }
   ],
   "source": [
    "\n",
    "\n",
    "print(get_metrics(y_test, reg_ypred))\n",
    "print(get_metrics(y_test, ols_ypred))\n",
    "print(get_metrics(y_test, clf_ypred))\n",
    "print(get_metrics(y_test, est_ypred))"
   ]
  },
  {
   "cell_type": "code",
   "execution_count": 209,
   "metadata": {},
   "outputs": [
    {
     "data": {
      "text/html": [
       "<div>\n",
       "<style scoped>\n",
       "    .dataframe tbody tr th:only-of-type {\n",
       "        vertical-align: middle;\n",
       "    }\n",
       "\n",
       "    .dataframe tbody tr th {\n",
       "        vertical-align: top;\n",
       "    }\n",
       "\n",
       "    .dataframe thead th {\n",
       "        text-align: right;\n",
       "    }\n",
       "</style>\n",
       "<table border=\"1\" class=\"dataframe\">\n",
       "  <thead>\n",
       "    <tr style=\"text-align: right;\">\n",
       "      <th></th>\n",
       "      <th>mse</th>\n",
       "      <th>r2</th>\n",
       "      <th>spearman</th>\n",
       "      <th>Model</th>\n",
       "    </tr>\n",
       "  </thead>\n",
       "  <tbody>\n",
       "    <tr>\n",
       "      <th>GB Reg Tree</th>\n",
       "      <td>0.047217</td>\n",
       "      <td>0.450467</td>\n",
       "      <td>0.728785</td>\n",
       "      <td>GB Reg Tree</td>\n",
       "    </tr>\n",
       "    <tr>\n",
       "      <th>Linear Reg</th>\n",
       "      <td>0.043744</td>\n",
       "      <td>0.490892</td>\n",
       "      <td>0.695564</td>\n",
       "      <td>Linear Reg</td>\n",
       "    </tr>\n",
       "    <tr>\n",
       "      <th>Bayesian Ridge Reg</th>\n",
       "      <td>0.052129</td>\n",
       "      <td>0.393303</td>\n",
       "      <td>0.629025</td>\n",
       "      <td>Bayesian Ridge Reg</td>\n",
       "    </tr>\n",
       "    <tr>\n",
       "      <th>Neural Network Reg</th>\n",
       "      <td>0.063420</td>\n",
       "      <td>0.261891</td>\n",
       "      <td>0.499578</td>\n",
       "      <td>Neural Network Reg</td>\n",
       "    </tr>\n",
       "  </tbody>\n",
       "</table>\n",
       "</div>"
      ],
      "text/plain": [
       "                         mse        r2  spearman               Model\n",
       "GB Reg Tree         0.047217  0.450467  0.728785         GB Reg Tree\n",
       "Linear Reg          0.043744  0.490892  0.695564          Linear Reg\n",
       "Bayesian Ridge Reg  0.052129  0.393303  0.629025  Bayesian Ridge Reg\n",
       "Neural Network Reg  0.063420  0.261891  0.499578  Neural Network Reg"
      ]
     },
     "execution_count": 209,
     "metadata": {},
     "output_type": "execute_result"
    }
   ],
   "source": [
    "model_names = ['GB Reg Tree', 'Linear Reg', 'Bayesian Ridge Reg', 'Neural Network Reg']\n",
    "metric_names = ['mse', 'r2', 'spearman']\n",
    "\n",
    "metrics_dict = {\n",
    "    \"reg\" : get_metrics(y_test, reg_ypred),\n",
    "    \"ols\" : get_metrics(y_test, ols_ypred),\n",
    "    \"clf\" : get_metrics(y_test, clf_ypred),\n",
    "    \"est\" : get_metrics(y_test, est_ypred)\n",
    "    #, \"las\" : get_metrics(y_test, las_ypred)\n",
    "}\n",
    "\n",
    "metrics_df = pd.DataFrame(index = model_names, columns = metric_names)\n",
    "\n",
    "for metric in metric_names:\n",
    "    metric_list = []\n",
    "    for model in metrics_dict:\n",
    "        value = metrics_dict[model][metric]\n",
    "        metric_list.append(value)\n",
    "    metrics_df[metric] = metric_list\n",
    "\n",
    "metrics_df['Model'] = metrics_df.index\n",
    "metrics_df"
   ]
  },
  {
   "cell_type": "code",
   "execution_count": 210,
   "metadata": {},
   "outputs": [
    {
     "data": {
      "text/plain": [
       "<AxesSubplot:title={'center':'Grouped Bar Graph with dataframe'}, xlabel='Model'>"
      ]
     },
     "execution_count": 210,
     "metadata": {},
     "output_type": "execute_result"
    },
    {
     "data": {
      "image/png": "[encoded data removed]",
      "text/plain": [
       "<Figure size 432x288 with 1 Axes>"
      ]
     },
     "metadata": {},
     "output_type": "display_data"
    }
   ],
   "source": [
    "metrics_df.plot(\n",
    "        x='Model',\n",
    "        kind='bar',\n",
    "        stacked=False,\n",
    "        title='Grouped Bar Graph with dataframe')"
   ]
  },
  {
   "cell_type": "code",
   "execution_count": null,
   "metadata": {},
   "outputs": [],
   "source": []
  }
 ],
 "metadata": {
  "interpreter": {
   "hash": "e59fc8de33f6dde50514809d5b0c880e33a0b8a80ef4b3817792ccc2217e7bd8"
  },
  "kernelspec": {
   "display_name": "Python 3.8.5 64-bit ('base': conda)",
   "language": "python",
   "name": "python3"
  },
  "language_info": {
   "codemirror_mode": {
    "name": "ipython",
    "version": 3
   },
   "file_extension": ".py",
   "mimetype": "text/x-python",
   "name": "python",
   "nbconvert_exporter": "python",
   "pygments_lexer": "ipython3",
   "version": "3.9.7"
  },
  "orig_nbformat": 4
 },
 "nbformat": 4,
 "nbformat_minor": 2
}
