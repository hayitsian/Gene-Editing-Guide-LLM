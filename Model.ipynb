{
 "cells": [
  {
   "cell_type": "code",
   "execution_count": 1,
   "metadata": {},
   "outputs": [],
   "source": [
    "import pandas as pd\n",
    "import re\n",
    "import seaborn as sns\n",
    "import matplotlib.pyplot as plt\n",
    "import numpy as np\n",
    "from scipy.stats import sem\n",
    "\n",
    "from sklearn import datasets, ensemble\n",
    "from sklearn.inspection import permutation_importance\n",
    "from sklearn.metrics import mean_squared_error\n",
    "from sklearn.model_selection import train_test_split\n",
    "from sklearn.model_selection import KFold\n",
    "from sklearn.neural_network import MLPRegressor\n",
    "from time import time\n",
    "from sklearn.pipeline import make_pipeline\n",
    "from sklearn.preprocessing import QuantileTransformer\n",
    "from sklearn.neural_network import MLPRegressor\n",
    "from sklearn.datasets import make_regression\n",
    "from sklearn.metrics import confusion_matrix\n",
    "from sklearn.metrics import ConfusionMatrixDisplay\n",
    "from sklearn.linear_model import BayesianRidge, LinearRegression\n",
    "from scipy.stats import spearmanr\n",
    "from sklearn.model_selection import cross_val_score\n",
    "from sklearn.utils import shuffle\n",
    "from sklearn.model_selection import GridSearchCV"
   ]
  },
  {
   "cell_type": "code",
   "execution_count": 2,
   "metadata": {},
   "outputs": [],
   "source": [
    "sns.set()"
   ]
  },
  {
   "cell_type": "markdown",
   "metadata": {},
   "source": [
    "## Import data and graph"
   ]
  },
  {
   "cell_type": "code",
   "execution_count": 3,
   "metadata": {},
   "outputs": [
    {
     "data": {
      "text/html": [
       "<div>\n",
       "<style scoped>\n",
       "    .dataframe tbody tr th:only-of-type {\n",
       "        vertical-align: middle;\n",
       "    }\n",
       "\n",
       "    .dataframe tbody tr th {\n",
       "        vertical-align: top;\n",
       "    }\n",
       "\n",
       "    .dataframe thead th {\n",
       "        text-align: right;\n",
       "    }\n",
       "</style>\n",
       "<table border=\"1\" class=\"dataframe\">\n",
       "  <thead>\n",
       "    <tr style=\"text-align: right;\">\n",
       "      <th></th>\n",
       "      <th>Unnamed: 0</th>\n",
       "      <th>Expanded Sequence</th>\n",
       "      <th>sgRNA Score</th>\n",
       "      <th>sgRNA Rank</th>\n",
       "      <th>sgRNA Normalized</th>\n",
       "      <th>A1</th>\n",
       "      <th>AA1</th>\n",
       "      <th>AG1</th>\n",
       "      <th>AC1</th>\n",
       "      <th>AT1</th>\n",
       "      <th>...</th>\n",
       "      <th>TGT</th>\n",
       "      <th>TCA</th>\n",
       "      <th>TCG</th>\n",
       "      <th>TCC</th>\n",
       "      <th>TCT</th>\n",
       "      <th>TTA</th>\n",
       "      <th>TTG</th>\n",
       "      <th>TTC</th>\n",
       "      <th>TTT</th>\n",
       "      <th>Delta G</th>\n",
       "    </tr>\n",
       "  </thead>\n",
       "  <tbody>\n",
       "    <tr>\n",
       "      <th>0</th>\n",
       "      <td>0</td>\n",
       "      <td>GGCCGTAATGGCTTCCTCGTGAGTTGGTCC</td>\n",
       "      <td>0.325738</td>\n",
       "      <td>2708.0</td>\n",
       "      <td>0.410978</td>\n",
       "      <td>0</td>\n",
       "      <td>0</td>\n",
       "      <td>0</td>\n",
       "      <td>0</td>\n",
       "      <td>0</td>\n",
       "      <td>...</td>\n",
       "      <td>0</td>\n",
       "      <td>0</td>\n",
       "      <td>1</td>\n",
       "      <td>1</td>\n",
       "      <td>0</td>\n",
       "      <td>0</td>\n",
       "      <td>1</td>\n",
       "      <td>1</td>\n",
       "      <td>0</td>\n",
       "      <td>-41</td>\n",
       "    </tr>\n",
       "    <tr>\n",
       "      <th>1</th>\n",
       "      <td>1</td>\n",
       "      <td>AGAAGCTCGTGCGAGTGATAGACCAGGAGA</td>\n",
       "      <td>0.162559</td>\n",
       "      <td>1558.0</td>\n",
       "      <td>0.236425</td>\n",
       "      <td>1</td>\n",
       "      <td>0</td>\n",
       "      <td>1</td>\n",
       "      <td>0</td>\n",
       "      <td>0</td>\n",
       "      <td>...</td>\n",
       "      <td>0</td>\n",
       "      <td>0</td>\n",
       "      <td>1</td>\n",
       "      <td>0</td>\n",
       "      <td>0</td>\n",
       "      <td>0</td>\n",
       "      <td>0</td>\n",
       "      <td>0</td>\n",
       "      <td>0</td>\n",
       "      <td>-39</td>\n",
       "    </tr>\n",
       "    <tr>\n",
       "      <th>2</th>\n",
       "      <td>2</td>\n",
       "      <td>ATGGCACGGACGGTATATGGCAGGAGGTGG</td>\n",
       "      <td>0.035653</td>\n",
       "      <td>360.0</td>\n",
       "      <td>0.054586</td>\n",
       "      <td>1</td>\n",
       "      <td>0</td>\n",
       "      <td>0</td>\n",
       "      <td>0</td>\n",
       "      <td>1</td>\n",
       "      <td>...</td>\n",
       "      <td>0</td>\n",
       "      <td>0</td>\n",
       "      <td>0</td>\n",
       "      <td>0</td>\n",
       "      <td>0</td>\n",
       "      <td>0</td>\n",
       "      <td>0</td>\n",
       "      <td>0</td>\n",
       "      <td>0</td>\n",
       "      <td>-41</td>\n",
       "    </tr>\n",
       "    <tr>\n",
       "      <th>3</th>\n",
       "      <td>3</td>\n",
       "      <td>TGGCTACTTCTGCGAGACACGGACAGGTCG</td>\n",
       "      <td>0.311042</td>\n",
       "      <td>2602.0</td>\n",
       "      <td>0.394889</td>\n",
       "      <td>0</td>\n",
       "      <td>0</td>\n",
       "      <td>0</td>\n",
       "      <td>0</td>\n",
       "      <td>0</td>\n",
       "      <td>...</td>\n",
       "      <td>0</td>\n",
       "      <td>0</td>\n",
       "      <td>1</td>\n",
       "      <td>0</td>\n",
       "      <td>1</td>\n",
       "      <td>0</td>\n",
       "      <td>0</td>\n",
       "      <td>1</td>\n",
       "      <td>0</td>\n",
       "      <td>-42</td>\n",
       "    </tr>\n",
       "    <tr>\n",
       "      <th>4</th>\n",
       "      <td>4</td>\n",
       "      <td>ACTTCGGCCCACGCTACTACAGTTCGGGCT</td>\n",
       "      <td>0.199951</td>\n",
       "      <td>1844.0</td>\n",
       "      <td>0.279835</td>\n",
       "      <td>1</td>\n",
       "      <td>0</td>\n",
       "      <td>0</td>\n",
       "      <td>1</td>\n",
       "      <td>0</td>\n",
       "      <td>...</td>\n",
       "      <td>0</td>\n",
       "      <td>0</td>\n",
       "      <td>1</td>\n",
       "      <td>0</td>\n",
       "      <td>0</td>\n",
       "      <td>0</td>\n",
       "      <td>0</td>\n",
       "      <td>1</td>\n",
       "      <td>0</td>\n",
       "      <td>-42</td>\n",
       "    </tr>\n",
       "  </tbody>\n",
       "</table>\n",
       "<p>5 rows × 2496 columns</p>\n",
       "</div>"
      ],
      "text/plain": [
       "   Unnamed: 0               Expanded Sequence  sgRNA Score  sgRNA Rank  \\\n",
       "0           0  GGCCGTAATGGCTTCCTCGTGAGTTGGTCC     0.325738      2708.0   \n",
       "1           1  AGAAGCTCGTGCGAGTGATAGACCAGGAGA     0.162559      1558.0   \n",
       "2           2  ATGGCACGGACGGTATATGGCAGGAGGTGG     0.035653       360.0   \n",
       "3           3  TGGCTACTTCTGCGAGACACGGACAGGTCG     0.311042      2602.0   \n",
       "4           4  ACTTCGGCCCACGCTACTACAGTTCGGGCT     0.199951      1844.0   \n",
       "\n",
       "   sgRNA Normalized  A1  AA1  AG1  AC1  AT1  ...  TGT  TCA  TCG  TCC  TCT  \\\n",
       "0          0.410978   0    0    0    0    0  ...    0    0    1    1    0   \n",
       "1          0.236425   1    0    1    0    0  ...    0    0    1    0    0   \n",
       "2          0.054586   1    0    0    0    1  ...    0    0    0    0    0   \n",
       "3          0.394889   0    0    0    0    0  ...    0    0    1    0    1   \n",
       "4          0.279835   1    0    0    1    0  ...    0    0    1    0    0   \n",
       "\n",
       "   TTA  TTG  TTC  TTT  Delta G  \n",
       "0    0    1    1    0      -41  \n",
       "1    0    0    0    0      -39  \n",
       "2    0    0    0    0      -41  \n",
       "3    0    0    1    0      -42  \n",
       "4    0    0    1    0      -42  \n",
       "\n",
       "[5 rows x 2496 columns]"
      ]
     },
     "execution_count": 3,
     "metadata": {},
     "output_type": "execute_result"
    },
    {
     "data": {
      "image/png": "[encoded data removed]",
      "text/plain": [
       "<Figure size 432x288 with 1 Axes>"
      ]
     },
     "metadata": {},
     "output_type": "display_data"
    }
   ],
   "source": [
    "df = pd.read_csv(\"Doench_Fusi_V2_Featurized.csv\")\n",
    "plt.hist(df[\"sgRNA Normalized\"], alpha=0.5, density=True, label='Normalized sgRNA scores')\n",
    "plt.hist(df[\"sgRNA Score\"], alpha=0.5, density=True, label='Raw sgRNA scores')\n",
    "plt.ylabel('Probability density')\n",
    "plt.title(\"Dataset Histogram sgRNA scores\")\n",
    "plt.legend()\n",
    "df.head()"
   ]
  },
  {
   "cell_type": "code",
   "execution_count": 4,
   "metadata": {},
   "outputs": [
    {
     "data": {
      "text/plain": [
       "array(['AG1', 'AC1', 'AT1', ..., 'TTC', 'TTT', 'Delta G'], dtype=object)"
      ]
     },
     "execution_count": 4,
     "metadata": {},
     "output_type": "execute_result"
    }
   ],
   "source": [
    "features = df.columns.values\n",
    "y_feat = \"sgRNA Normalized\"\n",
    "features = np.delete(features,0)\n",
    "features = np.delete(features,0)\n",
    "features = np.delete(features,0)\n",
    "features = np.delete(features,0)\n",
    "features = np.delete(features,0)\n",
    "features = np.delete(features,0)\n",
    "x_feat = features\n",
    "x_feat = np.delete(x_feat, 0)\n",
    "x_feat"
   ]
  },
  {
   "cell_type": "code",
   "execution_count": 5,
   "metadata": {},
   "outputs": [],
   "source": [
    "y = df.loc[:,y_feat].values\n",
    "x = df[x_feat].values\n",
    "X_train, X_test, y_train, y_test = train_test_split(\n",
    "    x, y, test_size=0.1\n",
    ")"
   ]
  },
  {
   "cell_type": "code",
   "execution_count": 6,
   "metadata": {},
   "outputs": [
    {
     "data": {
      "text/html": [
       "<div>\n",
       "<style scoped>\n",
       "    .dataframe tbody tr th:only-of-type {\n",
       "        vertical-align: middle;\n",
       "    }\n",
       "\n",
       "    .dataframe tbody tr th {\n",
       "        vertical-align: top;\n",
       "    }\n",
       "\n",
       "    .dataframe thead th {\n",
       "        text-align: right;\n",
       "    }\n",
       "</style>\n",
       "<table border=\"1\" class=\"dataframe\">\n",
       "  <thead>\n",
       "    <tr style=\"text-align: right;\">\n",
       "      <th></th>\n",
       "      <th>AA1</th>\n",
       "      <th>AG1</th>\n",
       "      <th>AC1</th>\n",
       "      <th>AT1</th>\n",
       "      <th>A?</th>\n",
       "      <th>G1</th>\n",
       "      <th>GA1</th>\n",
       "      <th>GG1</th>\n",
       "      <th>GC1</th>\n",
       "      <th>GT1</th>\n",
       "      <th>...</th>\n",
       "      <th>TGT</th>\n",
       "      <th>TCA</th>\n",
       "      <th>TCG</th>\n",
       "      <th>TCC</th>\n",
       "      <th>TCT</th>\n",
       "      <th>TTA</th>\n",
       "      <th>TTG</th>\n",
       "      <th>TTC</th>\n",
       "      <th>TTT</th>\n",
       "      <th>Delta G</th>\n",
       "    </tr>\n",
       "  </thead>\n",
       "  <tbody>\n",
       "    <tr>\n",
       "      <th>0</th>\n",
       "      <td>0</td>\n",
       "      <td>0</td>\n",
       "      <td>0</td>\n",
       "      <td>0</td>\n",
       "      <td>1</td>\n",
       "      <td>1</td>\n",
       "      <td>0</td>\n",
       "      <td>1</td>\n",
       "      <td>0</td>\n",
       "      <td>0</td>\n",
       "      <td>...</td>\n",
       "      <td>0</td>\n",
       "      <td>0</td>\n",
       "      <td>1</td>\n",
       "      <td>1</td>\n",
       "      <td>0</td>\n",
       "      <td>0</td>\n",
       "      <td>1</td>\n",
       "      <td>1</td>\n",
       "      <td>0</td>\n",
       "      <td>-41</td>\n",
       "    </tr>\n",
       "    <tr>\n",
       "      <th>1</th>\n",
       "      <td>0</td>\n",
       "      <td>1</td>\n",
       "      <td>0</td>\n",
       "      <td>0</td>\n",
       "      <td>1</td>\n",
       "      <td>0</td>\n",
       "      <td>0</td>\n",
       "      <td>0</td>\n",
       "      <td>0</td>\n",
       "      <td>0</td>\n",
       "      <td>...</td>\n",
       "      <td>0</td>\n",
       "      <td>0</td>\n",
       "      <td>1</td>\n",
       "      <td>0</td>\n",
       "      <td>0</td>\n",
       "      <td>0</td>\n",
       "      <td>0</td>\n",
       "      <td>0</td>\n",
       "      <td>0</td>\n",
       "      <td>-39</td>\n",
       "    </tr>\n",
       "    <tr>\n",
       "      <th>2</th>\n",
       "      <td>0</td>\n",
       "      <td>0</td>\n",
       "      <td>0</td>\n",
       "      <td>1</td>\n",
       "      <td>1</td>\n",
       "      <td>0</td>\n",
       "      <td>0</td>\n",
       "      <td>0</td>\n",
       "      <td>0</td>\n",
       "      <td>0</td>\n",
       "      <td>...</td>\n",
       "      <td>0</td>\n",
       "      <td>0</td>\n",
       "      <td>0</td>\n",
       "      <td>0</td>\n",
       "      <td>0</td>\n",
       "      <td>0</td>\n",
       "      <td>0</td>\n",
       "      <td>0</td>\n",
       "      <td>0</td>\n",
       "      <td>-41</td>\n",
       "    </tr>\n",
       "    <tr>\n",
       "      <th>3</th>\n",
       "      <td>0</td>\n",
       "      <td>0</td>\n",
       "      <td>0</td>\n",
       "      <td>0</td>\n",
       "      <td>1</td>\n",
       "      <td>0</td>\n",
       "      <td>0</td>\n",
       "      <td>0</td>\n",
       "      <td>0</td>\n",
       "      <td>0</td>\n",
       "      <td>...</td>\n",
       "      <td>0</td>\n",
       "      <td>0</td>\n",
       "      <td>1</td>\n",
       "      <td>0</td>\n",
       "      <td>1</td>\n",
       "      <td>0</td>\n",
       "      <td>0</td>\n",
       "      <td>1</td>\n",
       "      <td>0</td>\n",
       "      <td>-42</td>\n",
       "    </tr>\n",
       "    <tr>\n",
       "      <th>4</th>\n",
       "      <td>0</td>\n",
       "      <td>0</td>\n",
       "      <td>1</td>\n",
       "      <td>0</td>\n",
       "      <td>1</td>\n",
       "      <td>0</td>\n",
       "      <td>0</td>\n",
       "      <td>0</td>\n",
       "      <td>0</td>\n",
       "      <td>0</td>\n",
       "      <td>...</td>\n",
       "      <td>0</td>\n",
       "      <td>0</td>\n",
       "      <td>1</td>\n",
       "      <td>0</td>\n",
       "      <td>0</td>\n",
       "      <td>0</td>\n",
       "      <td>0</td>\n",
       "      <td>1</td>\n",
       "      <td>0</td>\n",
       "      <td>-42</td>\n",
       "    </tr>\n",
       "  </tbody>\n",
       "</table>\n",
       "<p>5 rows × 2490 columns</p>\n",
       "</div>"
      ],
      "text/plain": [
       "   AA1  AG1  AC1  AT1  A?  G1  GA1  GG1  GC1  GT1  ...  TGT  TCA  TCG  TCC  \\\n",
       "0    0    0    0    0   1   1    0    1    0    0  ...    0    0    1    1   \n",
       "1    0    1    0    0   1   0    0    0    0    0  ...    0    0    1    0   \n",
       "2    0    0    0    1   1   0    0    0    0    0  ...    0    0    0    0   \n",
       "3    0    0    0    0   1   0    0    0    0    0  ...    0    0    1    0   \n",
       "4    0    0    1    0   1   0    0    0    0    0  ...    0    0    1    0   \n",
       "\n",
       "   TCT  TTA  TTG  TTC  TTT  Delta G  \n",
       "0    0    0    1    1    0      -41  \n",
       "1    0    0    0    0    0      -39  \n",
       "2    0    0    0    0    0      -41  \n",
       "3    1    0    0    1    0      -42  \n",
       "4    0    0    0    1    0      -42  \n",
       "\n",
       "[5 rows x 2490 columns]"
      ]
     },
     "execution_count": 6,
     "metadata": {},
     "output_type": "execute_result"
    }
   ],
   "source": [
    "df[features].head()"
   ]
  },
  {
   "cell_type": "code",
   "execution_count": 7,
   "metadata": {},
   "outputs": [
    {
     "data": {
      "text/plain": [
       "(6588, 2496)"
      ]
     },
     "execution_count": 7,
     "metadata": {},
     "output_type": "execute_result"
    }
   ],
   "source": [
    "df.shape"
   ]
  },
  {
   "cell_type": "markdown",
   "metadata": {},
   "source": [
    "# Models"
   ]
  },
  {
   "cell_type": "markdown",
   "metadata": {},
   "source": [
    "### 10-fold cross validation"
   ]
  },
  {
   "cell_type": "code",
   "execution_count": 8,
   "metadata": {},
   "outputs": [],
   "source": [
    "def cross_validate_regression(model, df, x_feat_list, y_feat, n_splits=10):\n",
    "    # computes the spearman correlation coefficient for each cross validated data set\n",
    "    # takes in a model (estimator object), pandas dataframe, x features and the y-feature to predict, as well\n",
    "    # as the number of splits (default is 10)\n",
    "    #\n",
    "    # returns a list of spearman correlation coefficients with length equal to the input n_splits\n",
    "    \n",
    "    # extract data into matrix\n",
    "    x = df.loc[:, x_feat_list].values\n",
    "    y_true = df.loc[:, y_feat].values\n",
    "    \n",
    "    kfold = KFold(n_splits=n_splits)\n",
    "    \n",
    "    # initialize an empty array same size as y_true\n",
    "    y_pred = np.empty_like(y_true)\n",
    "    \n",
    "    # correlation list\n",
    "    scc_list = np.array([])\n",
    "    \n",
    "    for train_idx, test_idx in kfold.split(x, y_true):\n",
    "        # get training data\n",
    "        x_train = x[train_idx, :]\n",
    "        y_true_train = y_true[train_idx]\n",
    "\n",
    "        # get testing data\n",
    "        x_test = x[test_idx, :]\n",
    "        y_true_test = y_true[test_idx]\n",
    "\n",
    "        # train on training data\n",
    "        model.fit(x_train, y_true_train)\n",
    "\n",
    "        # estimate each penguin's species\n",
    "        y_pred[test_idx] = model.predict(x_test)\n",
    "        \n",
    "        scc_list = np.append(scc_list, spearmanr(y_pred[test_idx], y_true[test_idx]).correlation)\n",
    "    \n",
    "    return scc_list"
   ]
  },
  {
   "cell_type": "markdown",
   "metadata": {},
   "source": [
    "### Gradient-Boosted Regression Tree"
   ]
  },
  {
   "cell_type": "code",
   "execution_count": 20,
   "metadata": {},
   "outputs": [
    {
     "name": "stdout",
     "output_type": "stream",
     "text": [
      "The mean squared error (MSE) on test set: 0.0218\n"
     ]
    }
   ],
   "source": [
    "params = {\n",
    "    \"n_estimators\": 1000,\n",
    "    \"max_depth\": 4,\n",
    "    \"min_samples_split\": 5,\n",
    "    \"learning_rate\": 0.01,\n",
    "}\n",
    "\n",
    "reg = ensemble.GradientBoostingRegressor(**params)\n",
    "reg.fit(X_train, y_train)\n",
    "\n",
    "mse = mean_squared_error(y_test, reg.predict(X_test))\n",
    "print(\"The mean squared error (MSE) on test set: {:.4f}\".format(mse))"
   ]
  },
  {
   "cell_type": "code",
   "execution_count": 21,
   "metadata": {},
   "outputs": [
    {
     "data": {
      "text/plain": [
       "array([0.92125984, 0.89126305, 0.91923984, 0.84706899, 0.8562706 ,\n",
       "       0.8912516 , 0.90907686, 0.92220976, 0.89306805, 0.89480221])"
      ]
     },
     "execution_count": 21,
     "metadata": {},
     "output_type": "execute_result"
    }
   ],
   "source": [
    "# NOTE: this will take a while (~10 minutes) to run\n",
    "gbrt_cvssc = cross_validate_regression(reg, df, x_feat, y_feat, 10)\n",
    "gbrt_cvssc"
   ]
  },
  {
   "cell_type": "markdown",
   "metadata": {},
   "source": [
    "##### Graphs of GBRT"
   ]
  },
  {
   "cell_type": "code",
   "execution_count": 22,
   "metadata": {},
   "outputs": [
    {
     "data": {
      "image/png": "[encoded data removed]",
      "text/plain": [
       "<Figure size 432x432 with 1 Axes>"
      ]
     },
     "metadata": {},
     "output_type": "display_data"
    }
   ],
   "source": [
    "test_score = np.zeros((params[\"n_estimators\"],), dtype=np.float64)\n",
    "for i, y_pred in enumerate(reg.staged_predict(X_test)):\n",
    "    test_score[i] = reg.loss_(y_test, y_pred)\n",
    "\n",
    "fig = plt.figure(figsize=(6, 6))\n",
    "plt.subplot(1, 1, 1)\n",
    "plt.title(\"Deviance\")\n",
    "plt.plot(\n",
    "    np.arange(params[\"n_estimators\"]) + 1,\n",
    "    reg.train_score_,\n",
    "    \"b-\",\n",
    "    label=\"Training Set Deviance\",\n",
    ")\n",
    "plt.plot(\n",
    "    np.arange(params[\"n_estimators\"]) + 1, test_score, \"r-\", label=\"Test Set Deviance\"\n",
    ")\n",
    "plt.legend(loc=\"upper right\")\n",
    "plt.xlabel(\"Boosting Iterations\")\n",
    "plt.ylabel(\"Deviance\")\n",
    "fig.tight_layout()\n",
    "plt.show()"
   ]
  },
  {
   "cell_type": "code",
   "execution_count": 23,
   "metadata": {},
   "outputs": [
    {
     "data": {
      "image/png": "[encoded data removed]",
      "text/plain": [
       "<Figure size 864x432 with 2 Axes>"
      ]
     },
     "metadata": {},
     "output_type": "display_data"
    }
   ],
   "source": [
    "feature_importance = reg.feature_importances_\n",
    "sorted_idx = np.argsort(feature_importance)\n",
    "pos = np.arange(sorted_idx.shape[0]) + 0.5\n",
    "fig = plt.figure(figsize=(12, 6))\n",
    "plt.subplot(1, 2, 1)\n",
    "plt.barh(pos, feature_importance[sorted_idx], align=\"center\")\n",
    "# plt.yticks(pos, x_feat)[sorted_idx]\n",
    "plt.title(\"Feature Importance (MDI)\")\n",
    "\n",
    "result = permutation_importance(\n",
    "    reg, X_test, y_test, n_repeats=10, random_state=42, n_jobs=2\n",
    ")\n",
    "sorted_idx = result.importances_mean.argsort()\n",
    "plt.subplot(1, 2, 2)\n",
    "plt.boxplot(\n",
    "    result.importances[sorted_idx].T,\n",
    "    vert=False,\n",
    "    labels=x_feat[sorted_idx], # this might break it\n",
    ")\n",
    "plt.title(\"Permutation Importance (test set)\")\n",
    "fig.tight_layout()\n",
    "plt.show()"
   ]
  },
  {
   "cell_type": "markdown",
   "metadata": {},
   "source": [
    "### Linear Regression"
   ]
  },
  {
   "cell_type": "code",
   "execution_count": 24,
   "metadata": {},
   "outputs": [
    {
     "name": "stdout",
     "output_type": "stream",
     "text": [
      "The mean squared error (MSE) on test set: 0.0000\n"
     ]
    }
   ],
   "source": [
    "ols = LinearRegression()\n",
    "ols.fit(x, y)\n",
    "\n",
    "mse = mean_squared_error(y_test, ols.predict(X_test))\n",
    "print(\"The mean squared error (MSE) on test set: {:.4f}\".format(mse))"
   ]
  },
  {
   "cell_type": "code",
   "execution_count": 25,
   "metadata": {},
   "outputs": [
    {
     "data": {
      "text/plain": [
       "array([0.78174213, 0.78882073, 0.79138436, 0.74497001, 0.69796054,\n",
       "       0.67687351, 0.73209463, 0.73537928, 0.80249344, 0.82360799])"
      ]
     },
     "execution_count": 25,
     "metadata": {},
     "output_type": "execute_result"
    }
   ],
   "source": [
    "lr_cvssc = cross_validate_regression(ols, df, x_feat, y_feat, 10)\n",
    "lr_cvssc"
   ]
  },
  {
   "cell_type": "markdown",
   "metadata": {},
   "source": [
    "##### Graphs for LR"
   ]
  },
  {
   "cell_type": "code",
   "execution_count": 26,
   "metadata": {},
   "outputs": [
    {
     "data": {
      "text/plain": [
       "<matplotlib.legend.Legend at 0x7fe399d17810>"
      ]
     },
     "execution_count": 26,
     "metadata": {},
     "output_type": "execute_result"
    },
    {
     "data": {
      "image/png": "[encoded data removed]",
      "text/plain": [
       "<Figure size 432x360 with 1 Axes>"
      ]
     },
     "metadata": {},
     "output_type": "display_data"
    }
   ],
   "source": [
    "lw = 2\n",
    "plt.figure(figsize=(6, 5))\n",
    "plt.title(\"Weights of the model\")\n",
    "plt.plot(ols.coef_, color=\"lightblue\", linewidth=lw, label=\"Linear Regression estimate\")\n",
    "plt.xlabel(\"Features\")\n",
    "plt.ylabel(\"Values of the weights\")\n",
    "plt.legend(loc=\"best\", prop=dict(size=12))"
   ]
  },
  {
   "cell_type": "markdown",
   "metadata": {},
   "source": [
    "### Bayesian Ridge Regression"
   ]
  },
  {
   "cell_type": "code",
   "execution_count": 27,
   "metadata": {},
   "outputs": [
    {
     "name": "stdout",
     "output_type": "stream",
     "text": [
      "The mean squared error (MSE) on test set: 0.0012\n"
     ]
    }
   ],
   "source": [
    "# Fit the Bayesian Ridge Regression and an OLS for comparison\n",
    "clf = BayesianRidge(compute_score=True)\n",
    "clf.fit(x, y)\n",
    "\n",
    "mse = mean_squared_error(y_test, clf.predict(X_test))\n",
    "print(\"The mean squared error (MSE) on test set: {:.4f}\".format(mse))"
   ]
  },
  {
   "cell_type": "code",
   "execution_count": 28,
   "metadata": {},
   "outputs": [
    {
     "data": {
      "text/plain": [
       "array([0.95871864, 0.95313358, 0.94350851, 0.93684192, 0.94077321,\n",
       "       0.95305347, 0.94645555, 0.9554111 , 0.95607776, 0.94849081])"
      ]
     },
     "execution_count": 28,
     "metadata": {},
     "output_type": "execute_result"
    }
   ],
   "source": [
    "brr_cvssc = cross_validate_regression(clf, df, x_feat, y_feat, 10)\n",
    "brr_cvssc"
   ]
  },
  {
   "cell_type": "markdown",
   "metadata": {},
   "source": [
    "##### Graphs"
   ]
  },
  {
   "cell_type": "code",
   "execution_count": 29,
   "metadata": {},
   "outputs": [
    {
     "data": {
      "text/plain": [
       "<matplotlib.legend.Legend at 0x7fe399f7e750>"
      ]
     },
     "execution_count": 29,
     "metadata": {},
     "output_type": "execute_result"
    },
    {
     "data": {
      "image/png": "[encoded data removed]",
      "text/plain": [
       "<Figure size 432x360 with 1 Axes>"
      ]
     },
     "metadata": {},
     "output_type": "display_data"
    }
   ],
   "source": [
    "lw = 2\n",
    "plt.figure(figsize=(6, 5))\n",
    "plt.title(\"Weights of the model\")\n",
    "# plt.plot(ols.coef_, color=\"lightblue\", linestyle=\"--\", label=\"Linear Regression estimate\")\n",
    "plt.plot(clf.coef_, color=\"lightgreen\", linewidth=lw, label=\"Bayesian Ridge estimate\")\n",
    "plt.xlabel(\"Features\")\n",
    "plt.ylabel(\"Values of the weights\")\n",
    "plt.legend(loc=\"best\", prop=dict(size=12))"
   ]
  },
  {
   "cell_type": "markdown",
   "metadata": {},
   "source": [
    "### Neural Network Regressor"
   ]
  },
  {
   "cell_type": "code",
   "execution_count": 10,
   "metadata": {},
   "outputs": [
    {
     "name": "stderr",
     "output_type": "stream",
     "text": [
      "C:\\Users\\ianha\\anaconda3\\lib\\site-packages\\sklearn\\neural_network\\_multilayer_perceptron.py:692: ConvergenceWarning: Stochastic Optimizer: Maximum iterations (200) reached and the optimization hasn't converged yet.\n",
      "  warnings.warn(\n",
      "C:\\Users\\ianha\\anaconda3\\lib\\site-packages\\sklearn\\neural_network\\_multilayer_perceptron.py:692: ConvergenceWarning: Stochastic Optimizer: Maximum iterations (200) reached and the optimization hasn't converged yet.\n",
      "  warnings.warn(\n",
      "C:\\Users\\ianha\\anaconda3\\lib\\site-packages\\sklearn\\neural_network\\_multilayer_perceptron.py:692: ConvergenceWarning: Stochastic Optimizer: Maximum iterations (200) reached and the optimization hasn't converged yet.\n",
      "  warnings.warn(\n",
      "C:\\Users\\ianha\\anaconda3\\lib\\site-packages\\sklearn\\neural_network\\_multilayer_perceptron.py:692: ConvergenceWarning: Stochastic Optimizer: Maximum iterations (200) reached and the optimization hasn't converged yet.\n",
      "  warnings.warn(\n"
     ]
    },
    {
     "data": {
      "text/plain": [
       "array([0.43003198, 0.44298213, 0.32351344, 0.32848909, 0.3351771 ,\n",
       "       0.38066063, 0.24729019, 0.33149661, 0.41259598, 0.33572105])"
      ]
     },
     "execution_count": 10,
     "metadata": {},
     "output_type": "execute_result"
    }
   ],
   "source": [
    "mlp = MLPRegressor();\n",
    "param_list = {\"hidden_layer_sizes\": [(20,),(50,),(100,),(200,),(50,50),(100,100),(200,200)], \"activation\": [\"tanh\", \"relu\"], \"solver\": [\"adam\"], \"alpha\": [0.0005]}\n",
    "gridCV = GridSearchCV(estimator=mlp, param_grid=param_list)\n",
    "cross_validate_regression(gridCV, df, features, y_feat)"
   ]
  },
  {
   "cell_type": "code",
   "execution_count": 11,
   "metadata": {},
   "outputs": [
    {
     "data": {
      "text/plain": [
       "MLPRegressor(activation='tanh', alpha=0.0005, hidden_layer_sizes=(100, 100))"
      ]
     },
     "execution_count": 11,
     "metadata": {},
     "output_type": "execute_result"
    }
   ],
   "source": [
    "gridCV.best_estimator_"
   ]
  },
  {
   "cell_type": "code",
   "execution_count": 13,
   "metadata": {},
   "outputs": [
    {
     "name": "stdout",
     "output_type": "stream",
     "text": [
      "Training MLPRegressor...\n",
      "done in 4.938s\n",
      "Test R2 score: 0.26\n"
     ]
    }
   ],
   "source": [
    "print(\"Training MLPRegressor...\")\n",
    "tic = time()\n",
    "est = make_pipeline(\n",
    "    QuantileTransformer(),\n",
    "    MLPRegressor(\n",
    "        hidden_layer_sizes=(100, 100),\n",
    "        learning_rate_init=0.0005,\n",
    "        early_stopping=True,\n",
    "        random_state=0,\n",
    "        activation='tanh',\n",
    "    ),\n",
    ")\n",
    "est.fit(X_train, y_train)\n",
    "print(f\"done in {time() - tic:.3f}s\")\n",
    "print(f\"Test R2 score: {est.score(X_test, y_test):.2f}\")"
   ]
  },
  {
   "cell_type": "code",
   "execution_count": 14,
   "metadata": {},
   "outputs": [],
   "source": [
    "nn_cvssc = cross_validate_regression(est, df, x_feat, y_feat, 10)"
   ]
  },
  {
   "cell_type": "code",
   "execution_count": 15,
   "metadata": {},
   "outputs": [
    {
     "data": {
      "text/plain": [
       "array([0.64362732, 0.5917438 , 0.37326112, 0.40282869, 0.49719501,\n",
       "       0.52608502, 0.37514519, 0.40403103, 0.40499746, 0.46094527])"
      ]
     },
     "execution_count": 15,
     "metadata": {},
     "output_type": "execute_result"
    }
   ],
   "source": [
    "nn_cvssc"
   ]
  },
  {
   "cell_type": "markdown",
   "metadata": {},
   "source": [
    "## Model Performance"
   ]
  },
  {
   "cell_type": "code",
   "execution_count": 32,
   "metadata": {},
   "outputs": [
    {
     "data": {
      "text/plain": [
       "<BarContainer object of 4 artists>"
      ]
     },
     "execution_count": 32,
     "metadata": {},
     "output_type": "execute_result"
    },
    {
     "data": {
      "image/png": "[encoded data removed]",
      "text/plain": [
       "<Figure size 432x288 with 1 Axes>"
      ]
     },
     "metadata": {},
     "output_type": "display_data"
    }
   ],
   "source": [
    "models = ['gbrt', 'lr', 'brr', 'nn']\n",
    "values = [gbrt_cvssc.mean(), lr_cvssc.mean(), brr_cvssc.mean(), nn_cvssc.mean()]\n",
    "# error = [sem(gbrt_cvssc), sem(lr_cvssc), sem(brr_cvssc), sem(nn_cvssc)]\n",
    "error = [gbrt_cvssc.std(), lr_cvssc.std(), brr_cvssc.std(), nn_cvssc.std()]\n",
    "\n",
    "plt.bar(models, values, yerr=error, alpha=0.6)"
   ]
  }
 ],
 "metadata": {
  "interpreter": {
   "hash": "e59fc8de33f6dde50514809d5b0c880e33a0b8a80ef4b3817792ccc2217e7bd8"
  },
  "kernelspec": {
   "display_name": "Python 3.8.5 64-bit ('base': conda)",
   "language": "python",
   "name": "python3"
  },
  "language_info": {
   "codemirror_mode": {
    "name": "ipython",
    "version": 3
   },
   "file_extension": ".py",
   "mimetype": "text/x-python",
   "name": "python",
   "nbconvert_exporter": "python",
   "pygments_lexer": "ipython3",
   "version": "3.8.5"
  },
  "orig_nbformat": 4
 },
 "nbformat": 4,
 "nbformat_minor": 2
}
