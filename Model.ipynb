{
 "cells": [
  {
   "cell_type": "code",
   "execution_count": 1,
   "metadata": {},
   "outputs": [],
   "source": [
    "import pandas as pd\n",
    "import re\n",
    "import seaborn as sns\n",
    "import matplotlib.pyplot as plt\n",
    "import numpy as np\n",
    "from scipy.stats import sem\n",
    "from sklearn.linear_model import Lasso\n",
    "from sklearn import datasets, ensemble\n",
    "from sklearn.inspection import permutation_importance\n",
    "from sklearn.metrics import mean_squared_error\n",
    "from sklearn.model_selection import train_test_split\n",
    "from sklearn.model_selection import KFold\n",
    "from sklearn.neural_network import MLPRegressor\n",
    "from time import time\n",
    "from sklearn.pipeline import make_pipeline\n",
    "from sklearn.preprocessing import QuantileTransformer\n",
    "from sklearn.neural_network import MLPRegressor\n",
    "from sklearn.datasets import make_regression\n",
    "from sklearn.metrics import confusion_matrix\n",
    "from sklearn.metrics import ConfusionMatrixDisplay\n",
    "from sklearn.linear_model import BayesianRidge, LinearRegression\n",
    "from scipy.stats import spearmanr\n",
    "from sklearn.metrics import r2_score"
   ]
  },
  {
   "cell_type": "code",
   "execution_count": 2,
   "metadata": {},
   "outputs": [],
   "source": [
    "## need biopython to run: https://anaconda.org/anaconda/biopython\n",
    "from Bio.SeqUtils import MeltingTemp as mt\n",
    "from Bio.Seq import Seq"
   ]
  },
  {
   "cell_type": "code",
   "execution_count": 3,
   "metadata": {},
   "outputs": [],
   "source": [
    "## need OligoArrayAux to run: http://www.unafold.org/Dinamelt/software/OligoArrayAux.php\n",
    "## install: https://libraries.io/pypi/oligo-melting\n",
    "# import oligo_melting as OligoMelt"
   ]
  },
  {
   "cell_type": "code",
   "execution_count": 4,
   "metadata": {},
   "outputs": [],
   "source": [
    "sns.set()"
   ]
  },
  {
   "cell_type": "markdown",
   "metadata": {},
   "source": [
    "## Import data and graph"
   ]
  },
  {
   "cell_type": "code",
   "execution_count": 5,
   "metadata": {},
   "outputs": [
    {
     "data": {
      "text/html": [
       "<div>\n",
       "<style scoped>\n",
       "    .dataframe tbody tr th:only-of-type {\n",
       "        vertical-align: middle;\n",
       "    }\n",
       "\n",
       "    .dataframe tbody tr th {\n",
       "        vertical-align: top;\n",
       "    }\n",
       "\n",
       "    .dataframe thead th {\n",
       "        text-align: right;\n",
       "    }\n",
       "</style>\n",
       "<table border=\"1\" class=\"dataframe\">\n",
       "  <thead>\n",
       "    <tr style=\"text-align: right;\">\n",
       "      <th></th>\n",
       "      <th>Unnamed: 0</th>\n",
       "      <th>Expanded Sequence</th>\n",
       "      <th>sgRNA Score</th>\n",
       "      <th>sgRNA Rank</th>\n",
       "      <th>sgRNA Normalized</th>\n",
       "      <th>A1</th>\n",
       "      <th>AA1</th>\n",
       "      <th>AG1</th>\n",
       "      <th>AC1</th>\n",
       "      <th>AT1</th>\n",
       "      <th>...</th>\n",
       "      <th>TGT</th>\n",
       "      <th>TCA</th>\n",
       "      <th>TCG</th>\n",
       "      <th>TCC</th>\n",
       "      <th>TCT</th>\n",
       "      <th>TTA</th>\n",
       "      <th>TTG</th>\n",
       "      <th>TTC</th>\n",
       "      <th>TTT</th>\n",
       "      <th>Delta G</th>\n",
       "    </tr>\n",
       "  </thead>\n",
       "  <tbody>\n",
       "    <tr>\n",
       "      <th>0</th>\n",
       "      <td>0</td>\n",
       "      <td>GGCCGTAATGGCTTCCTCGTGAGTTGGTCC</td>\n",
       "      <td>0.325738</td>\n",
       "      <td>2708.0</td>\n",
       "      <td>0.410978</td>\n",
       "      <td>0</td>\n",
       "      <td>0</td>\n",
       "      <td>0</td>\n",
       "      <td>0</td>\n",
       "      <td>0</td>\n",
       "      <td>...</td>\n",
       "      <td>0</td>\n",
       "      <td>0</td>\n",
       "      <td>1</td>\n",
       "      <td>1</td>\n",
       "      <td>0</td>\n",
       "      <td>0</td>\n",
       "      <td>1</td>\n",
       "      <td>1</td>\n",
       "      <td>0</td>\n",
       "      <td>-41</td>\n",
       "    </tr>\n",
       "    <tr>\n",
       "      <th>1</th>\n",
       "      <td>1</td>\n",
       "      <td>AGAAGCTCGTGCGAGTGATAGACCAGGAGA</td>\n",
       "      <td>0.162559</td>\n",
       "      <td>1558.0</td>\n",
       "      <td>0.236425</td>\n",
       "      <td>1</td>\n",
       "      <td>0</td>\n",
       "      <td>1</td>\n",
       "      <td>0</td>\n",
       "      <td>0</td>\n",
       "      <td>...</td>\n",
       "      <td>0</td>\n",
       "      <td>0</td>\n",
       "      <td>1</td>\n",
       "      <td>0</td>\n",
       "      <td>0</td>\n",
       "      <td>0</td>\n",
       "      <td>0</td>\n",
       "      <td>0</td>\n",
       "      <td>0</td>\n",
       "      <td>-39</td>\n",
       "    </tr>\n",
       "    <tr>\n",
       "      <th>2</th>\n",
       "      <td>2</td>\n",
       "      <td>ATGGCACGGACGGTATATGGCAGGAGGTGG</td>\n",
       "      <td>0.035653</td>\n",
       "      <td>360.0</td>\n",
       "      <td>0.054586</td>\n",
       "      <td>1</td>\n",
       "      <td>0</td>\n",
       "      <td>0</td>\n",
       "      <td>0</td>\n",
       "      <td>1</td>\n",
       "      <td>...</td>\n",
       "      <td>0</td>\n",
       "      <td>0</td>\n",
       "      <td>0</td>\n",
       "      <td>0</td>\n",
       "      <td>0</td>\n",
       "      <td>0</td>\n",
       "      <td>0</td>\n",
       "      <td>0</td>\n",
       "      <td>0</td>\n",
       "      <td>-41</td>\n",
       "    </tr>\n",
       "    <tr>\n",
       "      <th>3</th>\n",
       "      <td>3</td>\n",
       "      <td>TGGCTACTTCTGCGAGACACGGACAGGTCG</td>\n",
       "      <td>0.311042</td>\n",
       "      <td>2602.0</td>\n",
       "      <td>0.394889</td>\n",
       "      <td>0</td>\n",
       "      <td>0</td>\n",
       "      <td>0</td>\n",
       "      <td>0</td>\n",
       "      <td>0</td>\n",
       "      <td>...</td>\n",
       "      <td>0</td>\n",
       "      <td>0</td>\n",
       "      <td>1</td>\n",
       "      <td>0</td>\n",
       "      <td>1</td>\n",
       "      <td>0</td>\n",
       "      <td>0</td>\n",
       "      <td>1</td>\n",
       "      <td>0</td>\n",
       "      <td>-42</td>\n",
       "    </tr>\n",
       "    <tr>\n",
       "      <th>4</th>\n",
       "      <td>4</td>\n",
       "      <td>ACTTCGGCCCACGCTACTACAGTTCGGGCT</td>\n",
       "      <td>0.199951</td>\n",
       "      <td>1844.0</td>\n",
       "      <td>0.279835</td>\n",
       "      <td>1</td>\n",
       "      <td>0</td>\n",
       "      <td>0</td>\n",
       "      <td>1</td>\n",
       "      <td>0</td>\n",
       "      <td>...</td>\n",
       "      <td>0</td>\n",
       "      <td>0</td>\n",
       "      <td>1</td>\n",
       "      <td>0</td>\n",
       "      <td>0</td>\n",
       "      <td>0</td>\n",
       "      <td>0</td>\n",
       "      <td>1</td>\n",
       "      <td>0</td>\n",
       "      <td>-42</td>\n",
       "    </tr>\n",
       "  </tbody>\n",
       "</table>\n",
       "<p>5 rows × 2496 columns</p>\n",
       "</div>"
      ],
      "text/plain": [
       "   Unnamed: 0               Expanded Sequence  sgRNA Score  sgRNA Rank  \\\n",
       "0           0  GGCCGTAATGGCTTCCTCGTGAGTTGGTCC     0.325738      2708.0   \n",
       "1           1  AGAAGCTCGTGCGAGTGATAGACCAGGAGA     0.162559      1558.0   \n",
       "2           2  ATGGCACGGACGGTATATGGCAGGAGGTGG     0.035653       360.0   \n",
       "3           3  TGGCTACTTCTGCGAGACACGGACAGGTCG     0.311042      2602.0   \n",
       "4           4  ACTTCGGCCCACGCTACTACAGTTCGGGCT     0.199951      1844.0   \n",
       "\n",
       "   sgRNA Normalized  A1  AA1  AG1  AC1  AT1  ...  TGT  TCA  TCG  TCC  TCT  \\\n",
       "0          0.410978   0    0    0    0    0  ...    0    0    1    1    0   \n",
       "1          0.236425   1    0    1    0    0  ...    0    0    1    0    0   \n",
       "2          0.054586   1    0    0    0    1  ...    0    0    0    0    0   \n",
       "3          0.394889   0    0    0    0    0  ...    0    0    1    0    1   \n",
       "4          0.279835   1    0    0    1    0  ...    0    0    1    0    0   \n",
       "\n",
       "   TTA  TTG  TTC  TTT  Delta G  \n",
       "0    0    1    1    0      -41  \n",
       "1    0    0    0    0      -39  \n",
       "2    0    0    0    0      -41  \n",
       "3    0    0    1    0      -42  \n",
       "4    0    0    1    0      -42  \n",
       "\n",
       "[5 rows x 2496 columns]"
      ]
     },
     "execution_count": 5,
     "metadata": {},
     "output_type": "execute_result"
    },
    {
     "data": {
      "image/png": "[encoded data removed]",
      "text/plain": [
       "<Figure size 432x288 with 1 Axes>"
      ]
     },
     "metadata": {},
     "output_type": "display_data"
    }
   ],
   "source": [
    "df = pd.read_csv(\"Doench_Fusi_V2_Featurized.csv\")\n",
    "plt.hist(df[\"sgRNA Normalized\"], alpha=0.5, density=True, label='Normalized sgRNA scores')\n",
    "plt.hist(df[\"sgRNA Score\"], alpha=0.5, density=True, label='Raw sgRNA scores')\n",
    "plt.ylabel('Probability density')\n",
    "plt.title(\"Dataset Histogram sgRNA scores\")\n",
    "plt.legend()\n",
    "df.head()"
   ]
  },
  {
   "cell_type": "code",
   "execution_count": 6,
   "metadata": {},
   "outputs": [
    {
     "data": {
      "text/plain": [
       "(6588, 2496)"
      ]
     },
     "execution_count": 6,
     "metadata": {},
     "output_type": "execute_result"
    }
   ],
   "source": [
    "df.shape"
   ]
  },
  {
   "cell_type": "markdown",
   "metadata": {},
   "source": [
    "### Metrics"
   ]
  },
  {
   "cell_type": "code",
   "execution_count": 7,
   "metadata": {},
   "outputs": [],
   "source": [
    "# Standardized metrics function to use on each model\n",
    "def get_metrics(y_true, y_pred):\n",
    "    #accuracy = accuracy_score(y_true, y_pred)\n",
    "    mse = mean_squared_error(y_true, y_pred)\n",
    "    r2 = r2_score(y_true, y_pred)\n",
    "    spr = spearmanr(y_true, y_pred)\n",
    "    return {\n",
    "        'mse' : mse,\n",
    "        'r2' : r2,\n",
    "        'spearman': spearmanr(y_true, y_pred)[0]\n",
    "    }   \n"
   ]
  },
  {
   "cell_type": "markdown",
   "metadata": {},
   "source": [
    "### Models"
   ]
  },
  {
   "cell_type": "code",
   "execution_count": 8,
   "metadata": {},
   "outputs": [
    {
     "data": {
      "text/plain": [
       "array(['AG1', 'AC1', 'AT1', ..., 'TTC', 'TTT', 'Delta G'], dtype=object)"
      ]
     },
     "execution_count": 8,
     "metadata": {},
     "output_type": "execute_result"
    }
   ],
   "source": [
    "features = df.columns.values\n",
    "y_feat = \"sgRNA Normalized\"\n",
    "features = np.delete(features,0)\n",
    "features = np.delete(features,0)\n",
    "features = np.delete(features,0)\n",
    "features = np.delete(features,0)\n",
    "features = np.delete(features,0)\n",
    "features = np.delete(features,0)\n",
    "x_feat = features\n",
    "x_feat = np.delete(x_feat, 0)\n",
    "x_feat"
   ]
  },
  {
   "cell_type": "code",
   "execution_count": 9,
   "metadata": {},
   "outputs": [],
   "source": [
    "y = df.loc[:,y_feat].values\n",
    "x = df[x_feat].values\n",
    "X_train, X_test, y_train, y_test = train_test_split(\n",
    "    x, y, test_size=0.1\n",
    ")"
   ]
  },
  {
   "cell_type": "markdown",
   "metadata": {},
   "source": [
    "## 10-fold cross validation"
   ]
  },
  {
   "cell_type": "code",
   "execution_count": 10,
   "metadata": {},
   "outputs": [],
   "source": [
    "def cross_validate_regression(model, df, x_feat_list, y_feat, n_splits=10):\n",
    "    # computes the spearman correlation coefficient for each cross validated data set\n",
    "    # takes in a model (estimator object), pandas dataframe, x features and the y-feature to predict, as well\n",
    "    # as the number of splits (default is 10)\n",
    "    #\n",
    "    # returns a list of spearman correlation coefficients with length equal to the input n_splits\n",
    "    \n",
    "    # extract data into matrix\n",
    "    x = df.loc[:, x_feat_list].values\n",
    "    y_true = df.loc[:, y_feat].values\n",
    "    \n",
    "    kfold = KFold(n_splits=n_splits)\n",
    "    \n",
    "    # initialize an empty array same size as y_true\n",
    "    y_pred = np.empty_like(y_true)\n",
    "    \n",
    "    # correlation list\n",
    "    scc_list = np.array([])\n",
    "    \n",
    "    for train_idx, test_idx in kfold.split(x, y_true):\n",
    "        # get training data\n",
    "        x_train = x[train_idx, :]\n",
    "        y_true_train = y_true[train_idx]\n",
    "\n",
    "        # get testing data\n",
    "        x_test = x[test_idx, :]\n",
    "        y_true_test = y_true[test_idx]\n",
    "\n",
    "        # train on training data\n",
    "        model.fit(x_train, y_true_train)\n",
    "\n",
    "        # estimate each penguin's species\n",
    "        y_pred[test_idx] = model.predict(x_test)\n",
    "        \n",
    "        scc_list = np.append(scc_list, spearmanr(y_pred[test_idx], y_true[test_idx]).correlation)\n",
    "    \n",
    "    return scc_list"
   ]
  },
  {
   "cell_type": "markdown",
   "metadata": {},
   "source": [
    "### Gradient-Boosted Regression Tree"
   ]
  },
  {
   "cell_type": "code",
   "execution_count": 11,
   "metadata": {},
   "outputs": [
    {
     "name": "stdout",
     "output_type": "stream",
     "text": [
      "The mean squared error (MSE) on test set: 0.0708\n"
     ]
    }
   ],
   "source": [
    "params = {\n",
    "    \"n_estimators\": 1000,\n",
    "    \"max_depth\": 4,\n",
    "    \"min_samples_split\": 5,\n",
    "    \"learning_rate\": 0.01,\n",
    "}\n",
    "\n",
    "params2 = {\n",
    "    \"n_estimators\": 100,\n",
    "    \"max_depth\": 4,\n",
    "    \"min_samples_split\": 5,\n",
    "    \"learning_rate\": 0.01,\n",
    "}\n",
    "\n",
    "reg = ensemble.GradientBoostingRegressor(**params2)\n",
    "reg.fit(X_train, y_train)\n",
    "reg_ypred = reg.predict(X_test)\n",
    "\n",
    "mse = mean_squared_error(y_test, reg_ypred)\n",
    "print(\"The mean squared error (MSE) on test set: {:.4f}\".format(mse))"
   ]
  },
  {
   "cell_type": "code",
   "execution_count": null,
   "metadata": {},
   "outputs": [],
   "source": [
    "get_metrics(y_test, reg_ypred)"
   ]
  },
  {
   "cell_type": "code",
   "execution_count": 13,
   "metadata": {},
   "outputs": [
    {
     "data": {
      "text/html": [
       "<div>\n",
       "<style scoped>\n",
       "    .dataframe tbody tr th:only-of-type {\n",
       "        vertical-align: middle;\n",
       "    }\n",
       "\n",
       "    .dataframe tbody tr th {\n",
       "        vertical-align: top;\n",
       "    }\n",
       "\n",
       "    .dataframe thead th {\n",
       "        text-align: right;\n",
       "    }\n",
       "</style>\n",
       "<table border=\"1\" class=\"dataframe\">\n",
       "  <thead>\n",
       "    <tr style=\"text-align: right;\">\n",
       "      <th></th>\n",
       "      <th>mse</th>\n",
       "      <th>r2</th>\n",
       "      <th>spearman</th>\n",
       "    </tr>\n",
       "  </thead>\n",
       "  <tbody>\n",
       "    <tr>\n",
       "      <th>1</th>\n",
       "      <td>0.082362</td>\n",
       "      <td>0.002712</td>\n",
       "      <td>0.357539</td>\n",
       "    </tr>\n",
       "    <tr>\n",
       "      <th>5</th>\n",
       "      <td>0.081508</td>\n",
       "      <td>0.013053</td>\n",
       "      <td>0.358314</td>\n",
       "    </tr>\n",
       "    <tr>\n",
       "      <th>10</th>\n",
       "      <td>0.080539</td>\n",
       "      <td>0.024788</td>\n",
       "      <td>0.367954</td>\n",
       "    </tr>\n",
       "    <tr>\n",
       "      <th>100</th>\n",
       "      <td>0.070757</td>\n",
       "      <td>0.143240</td>\n",
       "      <td>0.468252</td>\n",
       "    </tr>\n",
       "    <tr>\n",
       "      <th>1000</th>\n",
       "      <td>0.057865</td>\n",
       "      <td>0.299342</td>\n",
       "      <td>0.559580</td>\n",
       "    </tr>\n",
       "    <tr>\n",
       "      <th>1500</th>\n",
       "      <td>0.056666</td>\n",
       "      <td>0.313853</td>\n",
       "      <td>0.564466</td>\n",
       "    </tr>\n",
       "  </tbody>\n",
       "</table>\n",
       "</div>"
      ],
      "text/plain": [
       "           mse        r2  spearman\n",
       "1     0.082362  0.002712  0.357539\n",
       "5     0.081508  0.013053  0.358314\n",
       "10    0.080539  0.024788  0.367954\n",
       "100   0.070757  0.143240  0.468252\n",
       "1000  0.057865  0.299342  0.559580\n",
       "1500  0.056666  0.313853  0.564466"
      ]
     },
     "execution_count": 13,
     "metadata": {},
     "output_type": "execute_result"
    }
   ],
   "source": [
    "ns = [1, 5, 10, 100, 1000, 1500]\n",
    "\n",
    "gbr_df = pd.DataFrame(columns = ['mse', 'r2', 'spearman'])\n",
    "\n",
    "for n in ns:\n",
    "    params = {\n",
    "    \"n_estimators\": n,\n",
    "    \"max_depth\": 4,\n",
    "    \"min_samples_split\": 5,\n",
    "    \"learning_rate\": 0.01,\n",
    "    }\n",
    "\n",
    "\n",
    "    reg = ensemble.GradientBoostingRegressor(**params)\n",
    "    reg.fit(X_train, y_train)\n",
    "    reg_ypred = reg.predict(X_test)\n",
    "\n",
    "    step_results = get_metrics(y_test, reg_ypred)\n",
    "    gbr_df.loc[n] = [step_results['mse'], step_results['r2'], step_results['spearman']]\n",
    "\n",
    "\n",
    "gbr_df"
   ]
  },
  {
   "cell_type": "code",
   "execution_count": 14,
   "metadata": {},
   "outputs": [],
   "source": [
    "# NOTE: this will take a while (~10 minutes) to run\n",
    "gbrt_cvssc = cross_validate_regression(reg, df, x_feat, y_feat, 10)\n",
    "gbrt_cvssc"
   ]
  },
  {
   "cell_type": "markdown",
   "metadata": {},
   "source": [
    "##### Graphs of GBRT"
   ]
  },
  {
   "cell_type": "code",
   "execution_count": null,
   "metadata": {},
   "outputs": [],
   "source": [
    "test_score = np.zeros((params[\"n_estimators\"],), dtype=np.float64)\n",
    "for i, y_pred in enumerate(reg.staged_predict(X_test)):\n",
    "    test_score[i] = reg.loss_(y_test, y_pred)\n",
    "\n",
    "fig = plt.figure(figsize=(6, 6))\n",
    "plt.subplot(1, 1, 1)\n",
    "plt.title(\"Deviance\")\n",
    "plt.plot(\n",
    "    np.arange(params[\"n_estimators\"]) + 1,\n",
    "    reg.train_score_,\n",
    "    \"b-\",\n",
    "    label=\"Training Set Deviance\",\n",
    ")\n",
    "plt.plot(\n",
    "    np.arange(params[\"n_estimators\"]) + 1, test_score, \"r-\", label=\"Test Set Deviance\"\n",
    ")\n",
    "plt.legend(loc=\"upper right\")\n",
    "plt.xlabel(\"Boosting Iterations\")\n",
    "plt.ylabel(\"Deviance\")\n",
    "fig.tight_layout()\n",
    "plt.show()"
   ]
  },
  {
   "cell_type": "code",
   "execution_count": null,
   "metadata": {},
   "outputs": [],
   "source": [
    "feature_importance = reg.feature_importances_\n",
    "sorted_idx = np.argsort(feature_importance)\n",
    "pos = np.arange(sorted_idx.shape[0]) + 0.5\n",
    "fig = plt.figure(figsize=(12, 6))\n",
    "plt.subplot(1, 2, 1)\n",
    "plt.barh(pos, feature_importance[sorted_idx], align=\"center\")\n",
    "# plt.yticks(pos, x_feat)[sorted_idx]\n",
    "plt.title(\"Feature Importance (MDI)\")\n",
    "\n",
    "result = permutation_importance(\n",
    "    reg, X_test, y_test, n_repeats=10, random_state=42, n_jobs=2\n",
    ")\n",
    "sorted_idx = result.importances_mean.argsort()\n",
    "plt.subplot(1, 2, 2)\n",
    "plt.boxplot(\n",
    "    result.importances[sorted_idx].T,\n",
    "    vert=False,\n",
    "    labels=x_feat[sorted_idx], # this might break it\n",
    ")\n",
    "plt.title(\"Permutation Importance (test set)\")\n",
    "fig.tight_layout()\n",
    "plt.show()"
   ]
  },
  {
   "cell_type": "markdown",
   "metadata": {},
   "source": [
    "## Linear Regression"
   ]
  },
  {
   "cell_type": "code",
   "execution_count": null,
   "metadata": {},
   "outputs": [],
   "source": [
    "ols = LinearRegression()\n",
    "ols.fit(x, y)\n",
    "ols_ypred = ols.predict(X_test)\n",
    "#mse = mean_squared_error(y_test, ols.predict(X_test))\n",
    "#print(\"The mean squared error (MSE) on test set: {:.4f}\".format(mse))\n",
    "\n",
    "get_metrics(y_test, ols_ypred)"
   ]
  },
  {
   "cell_type": "code",
   "execution_count": null,
   "metadata": {},
   "outputs": [],
   "source": [
    "lr_cvssc = cross_validate_regression(ols, df, x_feat, y_feat, 10)\n",
    "lr_cvssc"
   ]
  },
  {
   "cell_type": "markdown",
   "metadata": {},
   "source": [
    "##### Graphs for LR"
   ]
  },
  {
   "cell_type": "code",
   "execution_count": null,
   "metadata": {},
   "outputs": [],
   "source": [
    "lw = 2\n",
    "plt.figure(figsize=(6, 5))\n",
    "plt.title(\"Weights of the model\")\n",
    "plt.plot(ols.coef_, color=\"lightblue\", linewidth=lw, label=\"Linear Regression estimate\")\n",
    "plt.xlabel(\"Features\")\n",
    "plt.ylabel(\"Values of the weights\")\n",
    "plt.legend(loc=\"best\", prop=dict(size=12))"
   ]
  },
  {
   "cell_type": "code",
   "execution_count": null,
   "metadata": {},
   "outputs": [],
   "source": [
    "# Making a dataframe to sort feature importances\n",
    "imp_df = pd.DataFrame()\n",
    "imp_df['Features'] = x_feat\n",
    "imp_df['Coefs'] = ols.coef_\n",
    "imp_df = imp_df.sort_values(by=['Coefs'], ascending = False)\n",
    "imp_df.head(10)"
   ]
  },
  {
   "cell_type": "code",
   "execution_count": null,
   "metadata": {},
   "outputs": [],
   "source": [
    "imp_df.tail(10)"
   ]
  },
  {
   "cell_type": "markdown",
   "metadata": {},
   "source": [
    "### Bayesian Ridge Regression"
   ]
  },
  {
   "cell_type": "code",
   "execution_count": null,
   "metadata": {},
   "outputs": [],
   "source": [
    "# Fit the Bayesian Ridge Regression and an OLS for comparison\n",
    "clf = BayesianRidge(compute_score=True)\n",
    "clf.fit(x, y)\n",
    "\n",
    "clf_ypred = clf.predict(X_test)\n",
    "get_metrics(y_test, clf_ypred)"
   ]
  },
  {
   "cell_type": "code",
   "execution_count": null,
   "metadata": {},
   "outputs": [],
   "source": [
    "brr_cvssc = cross_validate_regression(clf, df, x_feat, y_feat, 10)\n",
    "brr_cvssc"
   ]
  },
  {
   "cell_type": "markdown",
   "metadata": {},
   "source": [
    "##### Graphs"
   ]
  },
  {
   "cell_type": "code",
   "execution_count": null,
   "metadata": {},
   "outputs": [],
   "source": [
    "'''clf_df = pd.DataFrame()\n",
    "clf_df['Features'] = x_feat\n",
    "clf_df['Coefs'] = clf.coef_\n",
    "clf_df = clf_df.sort_values(by=['Coefs'], ascending = False)\n",
    "clf_df.head(10)'''"
   ]
  },
  {
   "cell_type": "code",
   "execution_count": null,
   "metadata": {},
   "outputs": [],
   "source": [
    "lw = .5\n",
    "plt.figure(figsize=(16, 5))\n",
    "plt.title(\"Weights of the model\")\n",
    "# plt.plot(ols.coef_, color=\"lightblue\", linestyle=\"--\", label=\"Linear Regression estimate\")\n",
    "plt.plot(clf.coef_, color=\"lightgreen\", linewidth=lw, label=\"Bayesian Ridge estimate\")\n",
    "plt.xlabel(\"Features\")\n",
    "plt.ylabel(\"Values of the weights\")\n",
    "plt.legend(loc=\"best\", prop=dict(size=12))"
   ]
  },
  {
   "cell_type": "markdown",
   "metadata": {},
   "source": [
    "## Neural Network Regressor"
   ]
  },
  {
   "cell_type": "code",
   "execution_count": null,
   "metadata": {},
   "outputs": [],
   "source": [
    "print(\"Training MLPRegressor...\")\n",
    "tic = time()\n",
    "est = make_pipeline(\n",
    "    QuantileTransformer(),\n",
    "    MLPRegressor(\n",
    "        # Params from grid search\n",
    "        hidden_layer_sizes=(100, 100),\n",
    "        learning_rate_init=0.0005,\n",
    "        early_stopping=True,\n",
    "        random_state=0,\n",
    "        activation='tanh',\n",
    "    ),\n",
    ")\n",
    "est.fit(X_train, y_train)\n",
    "est_ypred = est.predict(X_test)\n",
    "print(f\"done in {time() - tic:.3f}s\")\n",
    "print(f\"Test R2 score: {est.score(X_test, y_test):.2f}\")"
   ]
  },
  {
   "cell_type": "code",
   "execution_count": null,
   "metadata": {},
   "outputs": [],
   "source": [
    "get_metrics(y_test, est_ypred)"
   ]
  },
  {
   "cell_type": "code",
   "execution_count": null,
   "metadata": {},
   "outputs": [],
   "source": [
    "nn_cvssc = cross_validate_regression(est, df, x_feat, y_feat, 10)\n",
    "nn_cvssc"
   ]
  },
  {
   "cell_type": "markdown",
   "metadata": {},
   "source": [
    "## Lasso Regressor"
   ]
  },
  {
   "cell_type": "code",
   "execution_count": null,
   "metadata": {},
   "outputs": [],
   "source": [
    "las = Lasso(alpha = .0005, max_iter = 1000000, random_state = 42)\n",
    "las.fit(x, y)\n",
    "las_ypred = las.predict(X_test)\n",
    "\n",
    "get_metrics(y_test, las_ypred)"
   ]
  },
  {
   "cell_type": "code",
   "execution_count": null,
   "metadata": {},
   "outputs": [],
   "source": [
    "las_cvssc = cross_validate_regression(las, df, x_feat, y_feat, 10)\n",
    "las_cvssc"
   ]
  },
  {
   "cell_type": "code",
   "execution_count": null,
   "metadata": {},
   "outputs": [],
   "source": [
    "# Exploring features reduced to 0\n",
    "lw = .5\n",
    "plt.figure(figsize=(22, 8))\n",
    "plt.plot(las.coef_)\n",
    "plt.plot(clf.coef_)\n",
    "plt.legend(loc=\"upper right\")\n",
    "plt.title('Lasso vs Bayesian Coefficient Weights')\n",
    "plt.xlabel('Feature Number')\n",
    "plt.ylabel('Weight')\n",
    "fig.tight_layout()\n",
    "plt.show()"
   ]
  },
  {
   "cell_type": "code",
   "execution_count": null,
   "metadata": {},
   "outputs": [],
   "source": [
    "lasso_df = pd.DataFrame()\n",
    "\n",
    "lasso_df['Features'] = x_feat\n",
    "lasso_df['Coefs'] = las.coef_\n",
    "\n",
    "threshold = .025\n",
    "important_feats = lasso_df[abs(lasso_df['Coefs']) > threshold]\n",
    "important_feats"
   ]
  },
  {
   "cell_type": "code",
   "execution_count": null,
   "metadata": {},
   "outputs": [],
   "source": [
    "plt.plot(clf.coef_)"
   ]
  },
  {
   "cell_type": "code",
   "execution_count": null,
   "metadata": {},
   "outputs": [],
   "source": [
    "'''from sklearn.model_selection import GridSearchCV\n",
    "\n",
    "las_gs = Lasso();\n",
    "\n",
    "\n",
    "# alpha = .001, max_iter = 1000000\n",
    "las_param_list = {\"alpha\": [.05,.005,.0005,.00005], \"fit_intercept\" : [True, False], \"max_iter\": [100000]}\n",
    "\n",
    "las_gridCV = GridSearchCV(estimator=las_gs, param_grid=las_param_list)\n",
    "\n",
    "cv_scores = cross_validate_regression(las_gridCV, df, features, y_feat)\n",
    "\n",
    "las_gridCV.best_estimator_'''"
   ]
  },
  {
   "cell_type": "markdown",
   "metadata": {},
   "source": [
    "## Model Performance"
   ]
  },
  {
   "cell_type": "code",
   "execution_count": null,
   "metadata": {},
   "outputs": [],
   "source": [
    "models = ['gbrt', 'lr', 'brr', 'nn', 'las']\n",
    "values = [gbrt_cvssc.mean(), lr_cvssc.mean(), brr_cvssc.mean(), nn_cvssc.mean(), las_cvssc.mean()]\n",
    "# error = [sem(gbrt_cvssc), sem(lr_cvssc), sem(brr_cvssc), sem(nn_cvssc)]\n",
    "error = [gbrt_cvssc.std(), lr_cvssc.std(), brr_cvssc.std(), nn_cvssc.std(), las_cvssc.std()]\n",
    "\n",
    "plt.bar(models, values, yerr=error, alpha=0.6)"
   ]
  },
  {
   "cell_type": "code",
   "execution_count": null,
   "metadata": {},
   "outputs": [],
   "source": [
    "print(get_metrics(y_test, reg_ypred))\n",
    "print(get_metrics(y_test, ols_ypred))\n",
    "print(get_metrics(y_test, clf_ypred))\n",
    "print(get_metrics(y_test, est_ypred))\n",
    "print(get_metrics(y_test, las_ypred))"
   ]
  },
  {
   "cell_type": "code",
   "execution_count": null,
   "metadata": {},
   "outputs": [],
   "source": [
    "model_names = ['GB Reg Tree', 'Linear Reg', 'Bayesian Ridge Reg', 'Neural Network Reg']\n",
    "metric_names = ['mse', 'r2', 'spearman']\n",
    "\n",
    "metrics_dict = {\n",
    "    \"reg\" : get_metrics(y_test, reg_ypred),\n",
    "    \"ols\" : get_metrics(y_test, ols_ypred),\n",
    "    \"clf\" : get_metrics(y_test, clf_ypred),\n",
    "    \"est\" : get_metrics(y_test, est_ypred)\n",
    "    #, \"las\" : get_metrics(y_test, las_ypred)\n",
    "}\n",
    "\n",
    "metrics_df = pd.DataFrame(index = model_names, columns = metric_names)\n",
    "\n",
    "for metric in metric_names:\n",
    "    metric_list = []\n",
    "    for model in metrics_dict:\n",
    "        value = metrics_dict[model][metric]\n",
    "        metric_list.append(value)\n",
    "    metrics_df[metric] = metric_list\n",
    "\n",
    "metrics_df['Model'] = metrics_df.index\n",
    "metrics_df"
   ]
  },
  {
   "cell_type": "code",
   "execution_count": null,
   "metadata": {},
   "outputs": [],
   "source": [
    "metrics_df.plot(\n",
    "        x='Model',\n",
    "        kind='bar',\n",
    "        stacked=False,\n",
    "        title='Grouped Bar Graph with dataframe')"
   ]
  },
  {
   "cell_type": "code",
   "execution_count": null,
   "metadata": {},
   "outputs": [],
   "source": []
  }
 ],
 "metadata": {
  "interpreter": {
   "hash": "e59fc8de33f6dde50514809d5b0c880e33a0b8a80ef4b3817792ccc2217e7bd8"
  },
  "kernelspec": {
   "display_name": "Python 3.8.5 64-bit ('base': conda)",
   "language": "python",
   "name": "python3"
  },
  "language_info": {
   "codemirror_mode": {
    "name": "ipython",
    "version": 3
   },
   "file_extension": ".py",
   "mimetype": "text/x-python",
   "name": "python",
   "nbconvert_exporter": "python",
   "pygments_lexer": "ipython3",
   "version": "3.9.7"
  },
  "orig_nbformat": 4
 },
 "nbformat": 4,
 "nbformat_minor": 2
}
